{
 "cells": [
  {
   "cell_type": "markdown",
   "id": "ccbc3745",
   "metadata": {},
   "source": [
    "# Checkpoint #1"
   ]
  },
  {
   "cell_type": "code",
   "execution_count": 1,
   "id": "92366bab",
   "metadata": {},
   "outputs": [],
   "source": [
    "import numpy as np\n",
    "from torch import nn\n",
    "import matplotlib.pyplot as plt\n",
    "from sklearn.model_selection import train_test_split\n",
    "%matplotlib inline"
   ]
  },
  {
   "cell_type": "code",
   "execution_count": 2,
   "id": "1891eea9",
   "metadata": {},
   "outputs": [],
   "source": [
    "import sys\n",
    "sys.path.append('/home/jamshedu/MLA-Final-Project/ANI-1_release/readers/lib/')\n",
    "import pyanitools as pya"
   ]
  },
  {
   "cell_type": "code",
   "execution_count": 3,
   "id": "24e02bb7",
   "metadata": {},
   "outputs": [],
   "source": [
    "import pyanitools as pya\n",
    "\n",
    "# Set the HDF5 file containing the data\n",
    "hdf5file = 'ANI-1_release/ani_gdb_s01.h5'\n",
    "\n",
    "# Construct the data loader class\n",
    "data = pya.anidataloader(hdf5file)\n",
    "data_iter = data.__iter__()\n",
    "# Print the species of the data set one by one\n"
   ]
  },
  {
   "cell_type": "code",
   "execution_count": 4,
   "id": "c7648a14",
   "metadata": {},
   "outputs": [
    {
     "name": "stdout",
     "output_type": "stream",
     "text": [
      "Path:    /gdb11_s01/gdb11_s01-0\n",
      "  Smiles:       [H]C([H])([H])[H]\n",
      "  Symbols:      ['C', 'H', 'H', 'H', 'H']\n",
      "  Coordinates:  (5400, 5, 3)\n",
      "  Energies:     (5400,) \n",
      "\n"
     ]
    }
   ],
   "source": [
    "mols = next(data_iter)\n",
    "# Extract the data\n",
    "P = mols['path']\n",
    "X = mols['coordinates']\n",
    "E = mols['energies']\n",
    "S = mols['species']\n",
    "sm = mols['smiles']\n",
    "\n",
    "# Print the data\n",
    "print(\"Path:   \", P)\n",
    "print(\"  Smiles:      \",\"\".join(sm))\n",
    "print(\"  Symbols:     \", S)\n",
    "print(\"  Coordinates: \", X.shape)\n",
    "print(\"  Energies:    \", E.shape, \"\\n\")"
   ]
  },
  {
   "cell_type": "markdown",
   "id": "5422a5bf",
   "metadata": {},
   "source": [
    "# Preliminary Information:\n",
    "\n",
    "## Length of the coordinates is how many conformations there are for each molecule. This length is the same for final energies we need to predict. Ex. for water there are 1800 conformations and 1800 energies associated with them.\n",
    "\n",
    "## Shape of the coordinates is rows x columns x array. Where each array is a coordinate value x, y, z. The rows correspond to each conformation and the columns correspond to each chemical species in the compound"
   ]
  },
  {
   "cell_type": "markdown",
   "id": "d1cfad92",
   "metadata": {},
   "source": [
    "## Working with the water molecule from s01 to show that the molecule can be read, train-test-split can be performed and batching occurs. Currently am calculating AEVs before conducting train-test-split, in the future may consider conducting train-test-split before calculating AEVs."
   ]
  },
  {
   "cell_type": "code",
   "execution_count": 5,
   "id": "631c0e16",
   "metadata": {},
   "outputs": [
    {
     "name": "stdout",
     "output_type": "stream",
     "text": [
      "ANI-1_release/ani_gdb_s01.h5\n"
     ]
    }
   ],
   "source": [
    "list_files_2 = ['ANI-1_release/ani_gdb_s01.h5']\n",
    "\n",
    "data_set_X = []\n",
    "y_energies = []\n",
    "\n",
    "for i in list_files_2:\n",
    "    hdf5file = i\n",
    "    print(i)\n",
    "    # Construct the data loader class\n",
    "    data = pya.anidataloader(hdf5file)\n",
    "    data_iter = data.__iter__()\n",
    "    for mol in data_iter:  \n",
    "        data_set_X.append({'species': mol['species'], 'coordinates': mol['coordinates']})\n",
    "        y_energies.append(mol['energies'])"
   ]
  },
  {
   "cell_type": "code",
   "execution_count": 6,
   "id": "f06e8e47",
   "metadata": {},
   "outputs": [
    {
     "data": {
      "text/plain": [
       "{'species': ['C', 'H', 'H', 'H', 'H'],\n",
       " 'coordinates': array([[[-0.0034502 ,  0.01017081,  0.01938033],\n",
       "         [-0.7954868 ,  0.5766599 , -0.5472012 ],\n",
       "         [-0.39378393, -0.97992676,  0.2722862 ],\n",
       "         [ 0.6344988 ,  0.4473651 ,  0.93568736],\n",
       "         [ 0.59581804, -0.16517928, -0.8915708 ]],\n",
       " \n",
       "        [[ 0.00311385, -0.02007288,  0.00282224],\n",
       "         [-0.78331304,  0.7921426 , -0.26027855],\n",
       "         [-0.45410746, -1.0295471 ,  0.31240797],\n",
       "         [ 0.44713658,  0.63571125,  0.76770777],\n",
       "         [ 0.7531731 , -0.1592813 , -0.85348135]],\n",
       " \n",
       "        [[-0.0177954 , -0.02192003, -0.01129478],\n",
       "         [-0.73020756,  0.6824338 , -0.30819252],\n",
       "         [-0.382202  , -0.86773723,  0.3822439 ],\n",
       "         [ 0.56933683,  0.50535196,  0.80417496],\n",
       "         [ 0.75492465, -0.05902938, -0.74378157]],\n",
       " \n",
       "        ...,\n",
       " \n",
       "        [[ 0.00874467,  0.00214323, -0.00896647],\n",
       "         [-0.85504687,  0.6273413 , -0.26081228],\n",
       "         [-0.47105345, -0.9456285 ,  0.3252177 ],\n",
       "         [ 0.48764503,  0.50858426,  0.85931367],\n",
       "         [ 0.7342992 , -0.21579494, -0.816997  ]],\n",
       " \n",
       "        [[ 0.00265332,  0.01679167,  0.02970096],\n",
       "         [-0.7641574 ,  0.5417239 , -0.6709583 ],\n",
       "         [-0.42493993, -1.0451285 ,  0.29268864],\n",
       "         [ 0.6569919 ,  0.40962765,  0.9470367 ],\n",
       "         [ 0.500478  , -0.10613752, -0.9224515 ]],\n",
       " \n",
       "        [[ 0.03539006, -0.00177199, -0.00804497],\n",
       "         [-0.95395136,  0.5715815 , -0.15887809],\n",
       "         [-0.63309413, -0.92448825,  0.22396699],\n",
       "         [ 0.45421714,  0.5900639 ,  0.75088745],\n",
       "         [ 0.71141016, -0.21603724, -0.72022647]]], dtype=float32)}"
      ]
     },
     "execution_count": 6,
     "metadata": {},
     "output_type": "execute_result"
    }
   ],
   "source": [
    "data_set_X[0]"
   ]
  },
  {
   "cell_type": "code",
   "execution_count": 7,
   "id": "0138c33b",
   "metadata": {},
   "outputs": [
    {
     "name": "stdout",
     "output_type": "stream",
     "text": [
      "Length of final data set X is: 3\n"
     ]
    }
   ],
   "source": [
    "print(f'Length of final data set X is: {len(data_set_X)}')"
   ]
  },
  {
   "cell_type": "markdown",
   "id": "7843ab3c",
   "metadata": {},
   "source": [
    "## Symmetry Functions to calculate AEV for a particular atom in a molecule with a certain conformation"
   ]
  },
  {
   "cell_type": "code",
   "execution_count": 174,
   "id": "7e6b5636",
   "metadata": {},
   "outputs": [],
   "source": [
    "import numpy as np\n",
    "\n",
    "def calc_f_C(Rij, RC):\n",
    "    f_C_value = 0.5 * np.cos(np.pi * Rij / RC) + 0.5\n",
    "    indicator = ((Rij <= RC) & (Rij != 0)).astype(float) # Make f_C(0)=0 to make sure the sum in distance conversion function and radial conversion function can run with j=i\n",
    "    return f_C_value * indicator\n",
    "\n",
    "def radial_component(Rijs, eta, Rs, RC=5.2):\n",
    "    # Rijs is a 1d array, all other parameters are scalars\n",
    "    f_C_values = calc_f_C(Rijs, RC)\n",
    "    individual_components = np.exp(-eta * (Rijs - Rs) ** 2) * f_C_values\n",
    "    return np.sum(individual_components)\n",
    "\n",
    "def angular_component(Rij_vectors, Rik_vectors, zeta, theta_s, eta, Rs, RC=3.5):\n",
    "    # Rij_vectors and Rik_vectors are 2d arrays with shape (n_atoms, 3), all other parameters are scalars\n",
    "    # calculate theta_ijk values from vector operations\n",
    "    dot_products = Rij_vectors.dot(Rik_vectors.T)\n",
    "    Rij_norms = np.linalg.norm(Rij_vectors, axis=-1)\n",
    "    Rik_norms = np.linalg.norm(Rik_vectors, axis=-1)\n",
    "    norms = Rij_norms.reshape((-1, 1)).dot(Rik_norms.reshape((1, -1)))\n",
    "    cos_values = np.clip(dot_products / (norms + 1e-8), -1, 1)\n",
    "    theta_ijks = np.arccos(cos_values)\n",
    "    theta_ijk_filter = (theta_ijks != 0).astype(float)\n",
    "    mean_dists = (Rij_norms.reshape((-1, 1)) + Rik_norms.reshape((1, -1))) / 2\n",
    "    f_C_values_Rij = calc_f_C(Rij_norms, RC)\n",
    "    f_C_values_Rik = calc_f_C(Rik_norms, RC)\n",
    "    f_C_values = f_C_values_Rij.reshape((-1, 1)).dot(f_C_values_Rik.reshape((1, -1)))\n",
    "    individual_components = (1 + np.cos(theta_ijks - theta_s)) ** zeta * np.exp(-eta * (mean_dists - Rs) ** 2) * f_C_values * theta_ijk_filter\n",
    "    return 2 ** (1 - zeta) * np.sum(individual_components)\n",
    "\n",
    "def calc_aev(atom_types, coords, i_index):\n",
    "    # atom_types are np.array of ints\n",
    "    relative_coordinates = coords - coords[i_index]\n",
    "    #print(f'Relative Coordinates: {relative_coordinates}')\n",
    "    nearby_atom_indicator = np.linalg.norm(relative_coordinates, axis=-1) < 5.3\n",
    "    #print(f'Nearby atoms: {nearby_atom_indicator}')\n",
    "    relative_coordinates = relative_coordinates[nearby_atom_indicator]\n",
    "    atom_types = atom_types[nearby_atom_indicator]\n",
    "    radial_aev = np.array([radial_component(np.linalg.norm(relative_coordinates[atom_types == atom], axis=-1), eta, Rs) \\\n",
    "                           for atom in [0, 1, 2, 3] for eta in [16] \\\n",
    "                           for Rs in [0.900000,1.168750,1.437500,1.706250,1.975000,2.243750,2.51250,2.781250,3.050000,\\\n",
    "                                   3.318750,3.587500,3.856250,4.125000,4.39375,4.662500,4.931250]])\n",
    "    angular_aev = np.array([angular_component(relative_coordinates[atom_types == atom_j], relative_coordinates[atom_types == atom_k],\\\n",
    "                                             zeta, theta_s, eta, Rs) \\\n",
    "                            for atom_j in [0, 1, 2, 3] for atom_k in range(atom_j, 4) for zeta in [32] \\\n",
    "                            for theta_s in [0.19634954,0.58904862,0.9817477,1.3744468,1.7671459,2.1598449,2.552544,2.945243]\\\n",
    "                            for eta in [8] for Rs in [0.900000,1.550000,2.200000,2.850000]])\n",
    "    #print(len(radial_aev), len(angular_aev))\n",
    "    return np.concatenate([radial_aev, angular_aev])\n",
    "\n",
    "        "
   ]
  },
  {
   "cell_type": "markdown",
   "id": "01b5ed89",
   "metadata": {},
   "source": [
    "## Each AEV is 384 elements long and corresponds to 1 atom of a molecule in 1 conformation.\n",
    "## So for s01, where there are 3 molecules, \n",
    "## CH4 (5400 conformations, 5 aevs/conformation), NH3 (3600 conformations, 4 aevs/conformation), H20 (1800, 3 aevs/conformation)\n",
    "## total aevs = 27,000, 14,400, 5400\n",
    "## For Water the shape we should use is (1800, 3, 384), 1800 conformations for (3 x 384)"
   ]
  },
  {
   "cell_type": "code",
   "execution_count": 175,
   "id": "574caab0",
   "metadata": {},
   "outputs": [
    {
     "data": {
      "text/plain": [
       "(1800, 3, 3)"
      ]
     },
     "execution_count": 175,
     "metadata": {},
     "output_type": "execute_result"
    }
   ],
   "source": [
    "water = data_set_X[2]\n",
    "water_energies = y_energies[2]\n",
    "water['coordinates'].shape"
   ]
  },
  {
   "cell_type": "markdown",
   "id": "279bc469",
   "metadata": {},
   "source": [
    "## Function to convert coordinates to AEV for a molecule, with an output shape of (num_conformations, num_atoms, 384)"
   ]
  },
  {
   "cell_type": "code",
   "execution_count": 176,
   "id": "c4db21f9",
   "metadata": {},
   "outputs": [],
   "source": [
    "from functools import wraps\n",
    "from time import time\n",
    "from tqdm import tqdm\n",
    "\n",
    "def timing(f):\n",
    "    @wraps(f)\n",
    "    def wrap(*args, **kw):\n",
    "        ts = time()\n",
    "        result = f(*args, **kw)\n",
    "        te = time()\n",
    "        print('func:%r  took: %2.4f sec' % (f.__name__,  te-ts))\n",
    "        return result\n",
    "    return wrap"
   ]
  },
  {
   "cell_type": "code",
   "execution_count": 179,
   "id": "ebe6043d",
   "metadata": {},
   "outputs": [],
   "source": [
    "@timing\n",
    "def convert_coordinates_to_aev(coordinates, species):\n",
    "    mapping={\"H\":0, \"C\":1, \"N\":2, \"O\":3}\n",
    "    elements = np.array([mapping[atom] for atom in species])\n",
    "    print(elements)\n",
    "    return_list = []\n",
    "    for i in tqdm(range(len(coordinates)), leave=False):\n",
    "        new_list = []\n",
    "        for j in range(len(elements)):\n",
    "            new_list.append(calc_aev(elements, coordinates[i], j))\n",
    "        return_list.append(new_list)\n",
    "    return np.array(return_list)"
   ]
  },
  {
   "cell_type": "code",
   "execution_count": 180,
   "id": "99cc4472",
   "metadata": {},
   "outputs": [
    {
     "name": "stdout",
     "output_type": "stream",
     "text": [
      "[3 0 0]\n"
     ]
    },
    {
     "name": "stderr",
     "output_type": "stream",
     "text": [
      "                                                                                                                        "
     ]
    },
    {
     "name": "stdout",
     "output_type": "stream",
     "text": [
      "func:'convert_coordinates_to_aev'  took: 208.5673 sec\n"
     ]
    },
    {
     "name": "stderr",
     "output_type": "stream",
     "text": [
      "\r"
     ]
    }
   ],
   "source": [
    "water_aevs = convert_coordinates_to_aev(water['coordinates'], water['species'])"
   ]
  },
  {
   "cell_type": "code",
   "execution_count": 183,
   "id": "948bb40c",
   "metadata": {},
   "outputs": [
    {
     "data": {
      "text/plain": [
       "(1800, 3, 384)"
      ]
     },
     "execution_count": 183,
     "metadata": {},
     "output_type": "execute_result"
    }
   ],
   "source": [
    "water_aevs.shape"
   ]
  },
  {
   "cell_type": "code",
   "execution_count": 184,
   "id": "dff5f5ff",
   "metadata": {},
   "outputs": [
    {
     "data": {
      "text/plain": [
       "['O', 'H', 'H']"
      ]
     },
     "execution_count": 184,
     "metadata": {},
     "output_type": "execute_result"
    }
   ],
   "source": [
    "water_atoms = data_set_X[2]['species']\n",
    "water_atoms"
   ]
  },
  {
   "cell_type": "markdown",
   "id": "8b10bc60",
   "metadata": {},
   "source": [
    "# Train Test Validation Splits\n",
    "\n",
    "## Splitting the water_aevs (1800, 3, 384) and water_energies(1800,) into training, testing and validation sets below. These sets will be passed into our Trainer class to be further split into batches."
   ]
  },
  {
   "cell_type": "code",
   "execution_count": 185,
   "id": "3f6a81d4",
   "metadata": {},
   "outputs": [],
   "source": [
    "# setting seed with random_state = 42\n",
    "mol_x_train, mol_x_test, mol_y_train, mol_y_test = train_test_split(water_aevs, water_energies, test_size=1/3, random_state=42)"
   ]
  },
  {
   "cell_type": "code",
   "execution_count": 186,
   "id": "7daf3b81",
   "metadata": {},
   "outputs": [
    {
     "name": "stdout",
     "output_type": "stream",
     "text": [
      "Input shape for molecule training: (1200, 3, 384)\n",
      "Output shape for molecule training: (1200,)\n",
      "Input shape for molecule testing: (600, 3, 384)\n",
      "Output shape for molecule testing: (600,)\n"
     ]
    }
   ],
   "source": [
    "print(f'Input shape for molecule training: {mol_x_train.shape}')\n",
    "print(f'Output shape for molecule training: {mol_y_train.shape}')\n",
    "print(f'Input shape for molecule testing: {mol_x_test.shape}')\n",
    "print(f'Output shape for molecule testing: {mol_y_test.shape}')"
   ]
  },
  {
   "cell_type": "code",
   "execution_count": 187,
   "id": "1f8264d9",
   "metadata": {},
   "outputs": [],
   "source": [
    "# setting seed with random_state = 42\n",
    "mol_x_train, mol_x_val, mol_y_train, mol_y_val = train_test_split(mol_x_train, mol_y_train, test_size=1/3, random_state=42)"
   ]
  },
  {
   "cell_type": "code",
   "execution_count": 188,
   "id": "aa35b922",
   "metadata": {},
   "outputs": [
    {
     "name": "stdout",
     "output_type": "stream",
     "text": [
      "Input shape for molecule training: (800, 3, 384)\n",
      "Output shape for molecule training: (800,)\n",
      "Input shape for molecule validation: (400, 3, 384)\n",
      "Output shape for molecule validation: (400,)\n"
     ]
    }
   ],
   "source": [
    "print(f'Input shape for molecule training: {mol_x_train.shape}')\n",
    "print(f'Output shape for molecule training: {mol_y_train.shape}')\n",
    "print(f'Input shape for molecule validation: {mol_x_val.shape}')\n",
    "print(f'Output shape for molecule validation: {mol_y_val.shape}')"
   ]
  },
  {
   "cell_type": "code",
   "execution_count": 189,
   "id": "605c13a1",
   "metadata": {},
   "outputs": [],
   "source": [
    "# Look into splitting the molecule before into train test split and then calculate aevs and then send it into the training"
   ]
  },
  {
   "cell_type": "markdown",
   "id": "63573fac",
   "metadata": {},
   "source": [
    "## Creating a Preliminary Model"
   ]
  },
  {
   "cell_type": "code",
   "execution_count": 190,
   "id": "22cc55cb",
   "metadata": {},
   "outputs": [],
   "source": [
    "class ANI(nn.Module):\n",
    "    def __init__(self):\n",
    "        super(ANI, self).__init__()\n",
    "        self.sub_nets = nn.ModuleDict({\"C\": ANI_sub(nn.Sequential(\n",
    "                                                    nn.Linear(384,150),\n",
    "                                                    #nn.LeakyReLU(0.1),\n",
    "                                                    nn.PReLU(),\n",
    "                                                    nn.Linear(150, 50),\n",
    "                                                    #nn.LeakyReLU(0.1),\n",
    "                                                    nn.PReLU(),\n",
    "                                                    nn.Linear(50, 1)\n",
    "                                                )), \n",
    "                                       \"H\": ANI_sub(nn.Sequential(\n",
    "                                                    nn.Linear(384,150),\n",
    "                                                    #nn.LeakyReLU(0.1),\n",
    "                                                    nn.PReLU(),\n",
    "                                                    nn.Linear(150, 50),\n",
    "                                                    nn.PReLU(),\n",
    "                                                    #nn.LeakyReLU(0.1),\n",
    "                                                    nn.Linear(50, 1)\n",
    "                                                )),                                         \n",
    "                                       \"N\": ANI_sub(nn.Sequential(\n",
    "                                                    nn.Linear(384,150),\n",
    "                                                    #nn.LeakyReLU(0.1),\n",
    "                                                    nn.PReLU(),\n",
    "                                                    nn.Linear(150, 50),\n",
    "                                                    #nn.LeakyReLU(0.1),\n",
    "                                                    nn.PReLU(),\n",
    "                                                    nn.Linear(50, 1)\n",
    "                                                )), \n",
    "                                       \"O\": ANI_sub(nn.Sequential(\n",
    "                                                    nn.Linear(384,150),\n",
    "                                                    nn.PReLU(),\n",
    "                                                    #nn.LeakyReLU(0.1),\n",
    "                                                    nn.Linear(150, 50),\n",
    "                                                    nn.PReLU(),\n",
    "                                                    #nn.LeakyReLU(0.1),\n",
    "                                                    nn.Linear(50, 1)\n",
    "                                                ))})\n",
    "\n",
    "    ## We cannot use ReLU functions because there are negative values in our AEVs and backpropogation will fail because\n",
    "    ## the derivative of ReLU will be 0.\n",
    "    def forward(self, aevs, atom_types):\n",
    "        \n",
    "        num_conformations, num_atoms, aev_vector_length = list(aevs.size())\n",
    "        '''\n",
    "        print(num_conformations)\n",
    "        print(num_atoms)\n",
    "        print(aev_vector_length)\n",
    "        '''\n",
    "        new_shape_aevs = aevs.view(num_atoms, num_conformations, aev_vector_length)\n",
    "        #print(f'New shape is: {new_shape_aevs.size()}')\n",
    "       \n",
    "        atomic_energies = torch.zeros(num_conformations, 1)\n",
    "        #print(f'New shape is: {atomic_energies.size()}')\n",
    "        for i in range(len(atom_types)):\n",
    "            #print(self.sub_nets[atom_types[i]](new_shape_aevs[i]))\n",
    "            #print(f'Return shape is: {self.sub_nets[atom_types[i]](new_shape_aevs[i]).size()}')\n",
    "            atomic_energies += self.sub_nets[atom_types[i]](new_shape_aevs[i])\n",
    "            #atomic_energies.cat()\n",
    "        # convert atomic energies to tensor and then sum up values in each row (sum all the columns for a row) \n",
    "        # to get an 1800 x 1 vector.\n",
    "        #print((atomic_energies).shape)\n",
    "        \n",
    "        #atomic_energies = np.array(holding_list).T\n",
    "        \n",
    "        #print(f'Complete atomic energies: {atomic_energies}')\n",
    "        #print(f'Complete atomic energies: {atomic_energies[0].shape}')\n",
    "        \n",
    "        #atomic_energies = torch.tensor(atomic_energies[0], dtype=torch.float)\n",
    "        \n",
    "        # dim = 1 to sum on columns\n",
    "        #total_energies = torch.sum(atomic_energies,dim=1)\n",
    "        #print(atomic_energies)\n",
    "        return atomic_energies.view(num_conformations)\n",
    "\n",
    "class ANI_sub(nn.Module):\n",
    "    def __init__(self, architecture):\n",
    "        super(ANI_sub, self).__init__()\n",
    "        self.layers = architecture\n",
    "\n",
    "    def forward(self, aev):\n",
    "        #aev = torch.tensor(aev, dtype=torch.float)\n",
    "        atomic_energy = self.layers(aev)\n",
    "        #print(atomic_energy)\n",
    "        return atomic_energy\n"
   ]
  },
  {
   "cell_type": "markdown",
   "id": "2ddd949d",
   "metadata": {},
   "source": [
    "## Trainer Class that will convert Training and Validation sets of our data into batches for use in our model"
   ]
  },
  {
   "cell_type": "code",
   "execution_count": 191,
   "id": "774ab970",
   "metadata": {},
   "outputs": [],
   "source": [
    "from torch.optim import SGD, Adam\n",
    "from torch import nn\n",
    "import torch\n",
    "import torch.nn.functional as F\n",
    "import random\n",
    "from tqdm import tqdm\n",
    "import math\n",
    "from sklearn.model_selection import train_test_split\n",
    "import matplotlib.pyplot as plt\n",
    "\n",
    "def create_chunks(complete_list, chunk_size=None, num_chunks=None):\n",
    "    '''\n",
    "    Cut a list into multiple chunks, each having chunk_size (the last chunk might be less than chunk_size) or having a total of num_chunk chunks\n",
    "    '''\n",
    "    chunks = []\n",
    "    if num_chunks is None:\n",
    "        num_chunks = math.ceil(len(complete_list) / chunk_size)\n",
    "    elif chunk_size is None:\n",
    "        chunk_size = math.ceil(len(complete_list) / num_chunks)\n",
    "    for i in range(num_chunks):\n",
    "        chunks.append(complete_list[i * chunk_size: (i + 1) * chunk_size])\n",
    "    return chunks\n",
    "\n",
    "class Trainer():\n",
    "    def __init__(self, model, optimizer_type, learning_rate, epoch, batch_size):\n",
    "        \"\"\" The class for training the model\n",
    "        model: nn.Module\n",
    "            A pytorch model\n",
    "        optimizer_type: 'adam' or 'sgd'\n",
    "        learning_rate: float\n",
    "        epoch: int\n",
    "        batch_size: int\n",
    "        input_transform: func\n",
    "            transforming input. Can do reshape here\n",
    "        \"\"\"\n",
    "        self.model = model\n",
    "        if optimizer_type == \"sgd\":\n",
    "            self.optimizer = SGD(model.parameters(), learning_rate,momentum=0.9)\n",
    "        elif optimizer_type == \"adam\":\n",
    "            self.optimizer = Adam(model.parameters(), learning_rate)\n",
    "            \n",
    "        self.epoch = epoch\n",
    "        self.batch_size = batch_size\n",
    "\n",
    "    @timing\n",
    "    def train(self, atom_types, inputs, outputs, val_inputs, val_outputs, draw_curve=True, early_stop=False,l2=False,silent=False):\n",
    "        \"\"\" train self.model with specified arguments\n",
    "        inputs: np.array, The shape of input_transform(input) should be (ndata,nfeatures) should be 32x32.\n",
    "        outputs: np.array shape (ndata,)\n",
    "        val_nputs: np.array, The shape of input_transform(val_input) should be (ndata,nfeatures)\n",
    "        val_outputs: np.array shape (ndata,)\n",
    "        early_stop: bool\n",
    "        l2: bool\n",
    "        silent: bool. Controls whether or not to print the train and val error during training\n",
    "        \n",
    "        @return\n",
    "        a dictionary of arrays with train and val losses and accuracies\n",
    "        \"\"\"\n",
    "        ### convert data to tensor of correct shape and type here ###\n",
    "        #...\n",
    "        inputs = torch.tensor(inputs, dtype=torch.float)\n",
    "        outputs = torch.tensor(outputs, dtype=torch.float)\n",
    "                \n",
    "        losses = []\n",
    "        val_losses = []\n",
    "        weights = self.model.state_dict()\n",
    "        lowest_val_loss = np.inf\n",
    "        \n",
    "        loss_func = nn.MSELoss()\n",
    "        \n",
    "        for n_epoch in tqdm(range(self.epoch), leave=False):\n",
    "            self.model.train()\n",
    "            batch_indices = list(range(inputs.shape[0]))\n",
    "            random.shuffle(batch_indices)\n",
    "            batch_indices = create_chunks(batch_indices, chunk_size=self.batch_size)\n",
    "            epoch_loss = 0\n",
    "            #epoch_acc = 0\n",
    "            for batch in batch_indices:\n",
    "                batch_importance = len(batch) / len(outputs)\n",
    "                batch_input = inputs[batch]\n",
    "                batch_output = outputs[batch]\n",
    "                ### make prediction and compute loss with loss function of your choice on this batch ###\n",
    "                # self.model(aevs, atom_types)\n",
    "                \n",
    "                #print(batch_input.shape)\n",
    "        \n",
    "                batch_predictions = self.model(batch_input, atom_types)\n",
    "                \n",
    "                #print(batch_predictions.shape)\n",
    "\n",
    "                #MSELoss here.\n",
    "                loss = loss_func(batch_predictions, batch_output) \n",
    "                \n",
    "                #print(loss)\n",
    "                if l2:\n",
    "                    ### Compute the loss with L2 regularization ###\n",
    "                    l2_norm = sum([p.pow(2.0).sum() for p in self.model.parameters()])\n",
    "                    loss = loss + 0.00001 * l2_norm\n",
    "                    #lambda is 1e-5 == 0.00001\n",
    "                    \n",
    "                self.optimizer.zero_grad()\n",
    "                loss.backward()\n",
    "                self.optimizer.step()\n",
    "                \n",
    "                ### Compute epoch_loss \n",
    "\n",
    "                epoch_loss += loss.detach().cpu().item() * batch_importance\n",
    "\n",
    "            #print(val_inputs.shape)\n",
    "            val_loss = self.evaluate(atom_types, val_inputs, val_outputs)\n",
    "            if n_epoch % 10 ==0 and not silent:\n",
    "                print(\"Epoch %d/%d - Loss: %.3f\" % (n_epoch + 1, self.epoch, epoch_loss))\n",
    "                print(\"              Val_loss: %.3f\" % (val_loss))\n",
    "                print(\"              Batch_size: %.3f\" % (self.batch_size))\n",
    "            losses.append(epoch_loss)\n",
    "            val_losses.append(val_loss)\n",
    "            '''\n",
    "            xd = 0\n",
    "            for param in self.model.parameters():\n",
    "                print(f'Parameter {xd}: {param}')\n",
    "                xd+=1\n",
    "            '''    \n",
    "            if early_stop:\n",
    "                if val_loss < lowest_val_loss:\n",
    "                    lowest_val_loss = val_loss\n",
    "                    weights = self.model.state_dict()\n",
    "        \n",
    "        if draw_curve:\n",
    "            plt.figure()\n",
    "            plt.plot(np.arange(self.epoch) + 1,losses,label='Training loss')\n",
    "            plt.plot(np.arange(self.epoch) + 1,val_losses,label='Validation loss')\n",
    "            plt.xlabel('Epochs')\n",
    "            plt.ylabel('Loss')\n",
    "            plt.title(atom_types)\n",
    "            plt.legend()\n",
    "        \n",
    "        if early_stop:\n",
    "            self.model.load_state_dict(weights)    \n",
    "        \n",
    "        return {\"losses\": losses, \"val_losses\": val_losses}\n",
    "        \n",
    "    def evaluate(self, atom_types, inputs, outputs, print_loss=False):\n",
    "        \"\"\" evaluate model on provided input and output\n",
    "        inputs: np.array, The shape of input_transform(input) should be (ndata,nfeatures)\n",
    "        outputs: np.array shape (ndata,)\n",
    "        print_acc: bool\n",
    "        \n",
    "        @return\n",
    "        losses: float\n",
    "        acc: float\n",
    "        \"\"\"\n",
    "        inputs = torch.tensor(inputs, dtype=torch.float)\n",
    "        outputs = torch.tensor(outputs, dtype=torch.float)\n",
    "        \n",
    "        loss_func = nn.MSELoss()\n",
    "        \n",
    "        self.model.eval()\n",
    "        batch_indices = list(range(inputs.shape[0]))\n",
    "        batch_indices = create_chunks(batch_indices, chunk_size=self.batch_size)\n",
    "        #print(f\"batch indices length = {len(batch_indices)}\")\n",
    "        #print(f\"output length = {len(outputs)}\")\n",
    "        losses = 0\n",
    "        for batch in batch_indices:\n",
    "            batch_importance = len(batch) / len(outputs)\n",
    "            batch_input = inputs[batch]\n",
    "            batch_output = outputs[batch]\n",
    "            with torch.no_grad():\n",
    "                ### Compute prediction and loss###\n",
    "                batch_predictions = self.model(batch_input, atom_types)\n",
    "                #print(batch_predictions)\n",
    "                #print(len(batch_input))\n",
    "                #print(batch_importance)\n",
    "                '''\n",
    "                print(batch_predictions)\n",
    "                print(batch_output)\n",
    "                '''\n",
    "                loss = loss_func(batch_predictions, batch_output)\n",
    "                #print(loss)\n",
    "                \n",
    "            losses += loss.detach().cpu().item() * batch_importance\n",
    "        if print_loss:\n",
    "            print(\"Val Loss: %.3f\" % losses, \"Batch size: %.3f\" % self.batch_size)\n",
    "        return losses"
   ]
  },
  {
   "cell_type": "code",
   "execution_count": 192,
   "id": "71a1f57a",
   "metadata": {},
   "outputs": [],
   "source": [
    "ANI = ANI()"
   ]
  },
  {
   "cell_type": "code",
   "execution_count": 193,
   "id": "6e53bec9",
   "metadata": {},
   "outputs": [],
   "source": [
    "ANI_trainer = Trainer(ANI, \"adam\", 2e-3, 50, 128)"
   ]
  },
  {
   "cell_type": "code",
   "execution_count": 194,
   "id": "4f43d425",
   "metadata": {
    "scrolled": true
   },
   "outputs": [
    {
     "name": "stderr",
     "output_type": "stream",
     "text": [
      "  6%|█████                                                                               | 3/50 [00:00<00:03, 11.97it/s]"
     ]
    },
    {
     "name": "stdout",
     "output_type": "stream",
     "text": [
      "Epoch 1/50 - Loss: 5724.198\n",
      "              Val_loss: 5584.208\n",
      "              Batch_size: 128.000\n"
     ]
    },
    {
     "name": "stderr",
     "output_type": "stream",
     "text": [
      " 26%|█████████████████████▌                                                             | 13/50 [00:01<00:03, 11.69it/s]"
     ]
    },
    {
     "name": "stdout",
     "output_type": "stream",
     "text": [
      "Epoch 11/50 - Loss: 13.034\n",
      "              Val_loss: 19.403\n",
      "              Batch_size: 128.000\n"
     ]
    },
    {
     "name": "stderr",
     "output_type": "stream",
     "text": [
      " 42%|██████████████████████████████████▊                                                | 21/50 [00:01<00:02, 12.19it/s]"
     ]
    },
    {
     "name": "stdout",
     "output_type": "stream",
     "text": [
      "Epoch 21/50 - Loss: 5.211\n",
      "              Val_loss: 5.295\n",
      "              Batch_size: 128.000\n"
     ]
    },
    {
     "name": "stderr",
     "output_type": "stream",
     "text": [
      " 66%|██████████████████████████████████████████████████████▊                            | 33/50 [00:02<00:01, 12.37it/s]"
     ]
    },
    {
     "name": "stdout",
     "output_type": "stream",
     "text": [
      "Epoch 31/50 - Loss: 1.950\n",
      "              Val_loss: 2.078\n",
      "              Batch_size: 128.000\n"
     ]
    },
    {
     "name": "stderr",
     "output_type": "stream",
     "text": [
      " 86%|███████████████████████████████████████████████████████████████████████▍           | 43/50 [00:03<00:00, 12.59it/s]"
     ]
    },
    {
     "name": "stdout",
     "output_type": "stream",
     "text": [
      "Epoch 41/50 - Loss: 0.898\n",
      "              Val_loss: 0.923\n",
      "              Batch_size: 128.000\n"
     ]
    },
    {
     "name": "stderr",
     "output_type": "stream",
     "text": [
      "                                                                                                                        \r"
     ]
    },
    {
     "name": "stdout",
     "output_type": "stream",
     "text": [
      "func:'train'  took: 4.2310 sec\n"
     ]
    },
    {
     "data": {
      "image/png": "[encoded data removed]",
      "text/plain": [
       "<Figure size 432x288 with 1 Axes>"
      ]
     },
     "metadata": {
      "needs_background": "light"
     },
     "output_type": "display_data"
    }
   ],
   "source": [
    "log=ANI_trainer.train(water_atoms, mol_x_train, mol_y_train, mol_x_val, mol_y_val)"
   ]
  },
  {
   "cell_type": "code",
   "execution_count": 195,
   "id": "600c1625",
   "metadata": {},
   "outputs": [
    {
     "data": {
      "text/plain": [
       "{'losses': [5724.1984375,\n",
       "  5415.91513671875,\n",
       "  4633.692265625,\n",
       "  3159.18169921875,\n",
       "  1198.9079589843752,\n",
       "  92.01892333984374,\n",
       "  318.23597290039066,\n",
       "  62.482176513671874,\n",
       "  52.836027221679686,\n",
       "  46.585035247802736,\n",
       "  13.034221954345702,\n",
       "  18.987271118164063,\n",
       "  10.49529281616211,\n",
       "  11.216952667236328,\n",
       "  9.461788501739502,\n",
       "  8.77649574279785,\n",
       "  7.841174507141113,\n",
       "  6.695714263916015,\n",
       "  6.349991226196289,\n",
       "  5.184127521514893,\n",
       "  5.211398010253906,\n",
       "  4.697943935394287,\n",
       "  4.253400344848632,\n",
       "  3.8514439773559572,\n",
       "  3.8712657737731933,\n",
       "  3.519387264251709,\n",
       "  3.151278285980225,\n",
       "  2.7454326343536377,\n",
       "  2.4565050315856936,\n",
       "  2.2281225013732913,\n",
       "  1.9500830936431885,\n",
       "  1.8141322708129883,\n",
       "  1.6728304290771485,\n",
       "  1.6086114835739136,\n",
       "  1.3255649852752687,\n",
       "  1.290616307258606,\n",
       "  1.1694020986557008,\n",
       "  1.0887154483795167,\n",
       "  1.0235727405548094,\n",
       "  1.0662174463272094,\n",
       "  0.8983979177474976,\n",
       "  0.7937268924713134,\n",
       "  0.8224004697799684,\n",
       "  0.743370475769043,\n",
       "  0.6655102014541626,\n",
       "  0.6454843330383301,\n",
       "  0.6439293026924133,\n",
       "  0.6099088406562806,\n",
       "  0.5528226685523987,\n",
       "  0.5613778448104858],\n",
       " 'val_losses': [5584.207773437501,\n",
       "  5025.782578125,\n",
       "  3828.8663476562506,\n",
       "  1946.9407226562498,\n",
       "  214.97400634765626,\n",
       "  274.776884765625,\n",
       "  149.9730731201172,\n",
       "  29.004395370483405,\n",
       "  70.49758819580079,\n",
       "  16.93628936767578,\n",
       "  19.402867965698245,\n",
       "  13.592602996826173,\n",
       "  11.400598678588867,\n",
       "  11.307385406494141,\n",
       "  8.791734371185303,\n",
       "  8.27019639968872,\n",
       "  7.432543239593507,\n",
       "  7.042868404388428,\n",
       "  6.319719676971436,\n",
       "  5.762359142303467,\n",
       "  5.294800777435303,\n",
       "  4.885869483947754,\n",
       "  4.417296524047852,\n",
       "  4.042774372100831,\n",
       "  3.707197418212891,\n",
       "  3.4013713073730467,\n",
       "  3.0275561809539795,\n",
       "  2.7410324001312256,\n",
       "  2.488729238510132,\n",
       "  2.2638595485687256,\n",
       "  2.077853899002075,\n",
       "  1.9033094596862792,\n",
       "  1.7537783670425415,\n",
       "  1.5982943344116212,\n",
       "  1.4535885429382325,\n",
       "  1.3538683438301087,\n",
       "  1.2384386587142946,\n",
       "  1.142168712615967,\n",
       "  1.071979205608368,\n",
       "  1.007260150909424,\n",
       "  0.9233124685287476,\n",
       "  0.865041663646698,\n",
       "  0.8139140439033509,\n",
       "  0.7706927442550661,\n",
       "  0.7282657110691071,\n",
       "  0.6908493196964264,\n",
       "  0.6680099749565125,\n",
       "  0.6455347204208374,\n",
       "  0.6153387463092803,\n",
       "  0.5945232903957367]}"
      ]
     },
     "execution_count": 195,
     "metadata": {},
     "output_type": "execute_result"
    }
   ],
   "source": [
    "log"
   ]
  },
  {
   "cell_type": "markdown",
   "id": "845e9bf4",
   "metadata": {},
   "source": [
    "## The model is now working with the training and validation error not getting any lower for water. They are also not diverging so we are not over-fitting yet, however we could be under fitting. Now we will attempt to train on all the molecules in the s01 dataset (contains methane, ammonia, and water)."
   ]
  },
  {
   "cell_type": "code",
   "execution_count": 309,
   "id": "20818343",
   "metadata": {},
   "outputs": [
    {
     "name": "stdout",
     "output_type": "stream",
     "text": [
      "[1 0 0 0 0]\n"
     ]
    },
    {
     "name": "stderr",
     "output_type": "stream",
     "text": [
      "                                                                                                                        \r"
     ]
    },
    {
     "name": "stdout",
     "output_type": "stream",
     "text": [
      "func:'convert_coordinates_to_aev'  took: 1160.7675 sec\n",
      "['C', 'H', 'H', 'H', 'H']\n"
     ]
    },
    {
     "name": "stderr",
     "output_type": "stream",
     "text": [
      "  2%|█▋                                                                                  | 1/50 [00:00<00:19,  2.49it/s]"
     ]
    },
    {
     "name": "stdout",
     "output_type": "stream",
     "text": [
      "Epoch 1/50 - Loss: 907.332\n",
      "              Val_loss: 21.533\n",
      "              Batch_size: 128.000\n"
     ]
    },
    {
     "name": "stderr",
     "output_type": "stream",
     "text": [
      " 22%|██████████████████▎                                                                | 11/50 [00:04<00:15,  2.50it/s]"
     ]
    },
    {
     "name": "stdout",
     "output_type": "stream",
     "text": [
      "Epoch 11/50 - Loss: 0.629\n",
      "              Val_loss: 0.628\n",
      "              Batch_size: 128.000\n"
     ]
    },
    {
     "name": "stderr",
     "output_type": "stream",
     "text": [
      " 42%|██████████████████████████████████▊                                                | 21/50 [00:08<00:11,  2.55it/s]"
     ]
    },
    {
     "name": "stdout",
     "output_type": "stream",
     "text": [
      "Epoch 21/50 - Loss: 0.137\n",
      "              Val_loss: 0.139\n",
      "              Batch_size: 128.000\n"
     ]
    },
    {
     "name": "stderr",
     "output_type": "stream",
     "text": [
      " 62%|███████████████████████████████████████████████████▍                               | 31/50 [00:12<00:07,  2.52it/s]"
     ]
    },
    {
     "name": "stdout",
     "output_type": "stream",
     "text": [
      "Epoch 31/50 - Loss: 0.043\n",
      "              Val_loss: 0.042\n",
      "              Batch_size: 128.000\n"
     ]
    },
    {
     "name": "stderr",
     "output_type": "stream",
     "text": [
      " 82%|████████████████████████████████████████████████████████████████████               | 41/50 [00:16<00:03,  2.57it/s]"
     ]
    },
    {
     "name": "stdout",
     "output_type": "stream",
     "text": [
      "Epoch 41/50 - Loss: 0.021\n",
      "              Val_loss: 0.021\n",
      "              Batch_size: 128.000\n"
     ]
    },
    {
     "name": "stderr",
     "output_type": "stream",
     "text": [
      "                                                                                                                        \r"
     ]
    },
    {
     "name": "stdout",
     "output_type": "stream",
     "text": [
      "func:'train'  took: 20.0270 sec\n",
      "[2 0 0 0]\n"
     ]
    },
    {
     "name": "stderr",
     "output_type": "stream",
     "text": [
      "                                                                                                                        \r"
     ]
    },
    {
     "name": "stdout",
     "output_type": "stream",
     "text": [
      "func:'convert_coordinates_to_aev'  took: 609.4597 sec\n",
      "['N', 'H', 'H', 'H']\n"
     ]
    },
    {
     "name": "stderr",
     "output_type": "stream",
     "text": [
      "  2%|█▋                                                                                  | 1/50 [00:00<00:10,  4.77it/s]"
     ]
    },
    {
     "name": "stdout",
     "output_type": "stream",
     "text": [
      "Epoch 1/50 - Loss: 734.798\n",
      "              Val_loss: 129.281\n",
      "              Batch_size: 128.000\n"
     ]
    },
    {
     "name": "stderr",
     "output_type": "stream",
     "text": [
      " 22%|██████████████████▎                                                                | 11/50 [00:02<00:09,  4.26it/s]"
     ]
    },
    {
     "name": "stdout",
     "output_type": "stream",
     "text": [
      "Epoch 11/50 - Loss: 0.545\n",
      "              Val_loss: 0.536\n",
      "              Batch_size: 128.000\n"
     ]
    },
    {
     "name": "stderr",
     "output_type": "stream",
     "text": [
      " 42%|██████████████████████████████████▊                                                | 21/50 [00:04<00:07,  4.09it/s]"
     ]
    },
    {
     "name": "stdout",
     "output_type": "stream",
     "text": [
      "Epoch 21/50 - Loss: 0.207\n",
      "              Val_loss: 0.216\n",
      "              Batch_size: 128.000\n"
     ]
    },
    {
     "name": "stderr",
     "output_type": "stream",
     "text": [
      " 62%|███████████████████████████████████████████████████▍                               | 31/50 [00:07<00:04,  3.87it/s]"
     ]
    },
    {
     "name": "stdout",
     "output_type": "stream",
     "text": [
      "Epoch 31/50 - Loss: 0.124\n",
      "              Val_loss: 0.123\n",
      "              Batch_size: 128.000\n"
     ]
    },
    {
     "name": "stderr",
     "output_type": "stream",
     "text": [
      " 82%|████████████████████████████████████████████████████████████████████               | 41/50 [00:11<00:03,  2.43it/s]"
     ]
    },
    {
     "name": "stdout",
     "output_type": "stream",
     "text": [
      "Epoch 41/50 - Loss: 0.078\n",
      "              Val_loss: 0.082\n",
      "              Batch_size: 128.000\n"
     ]
    },
    {
     "name": "stderr",
     "output_type": "stream",
     "text": [
      "                                                                                                                        \r"
     ]
    },
    {
     "name": "stdout",
     "output_type": "stream",
     "text": [
      "func:'train'  took: 15.0265 sec\n",
      "[3 0 0]\n"
     ]
    },
    {
     "name": "stderr",
     "output_type": "stream",
     "text": [
      "                                                                                                                        \r"
     ]
    },
    {
     "name": "stdout",
     "output_type": "stream",
     "text": [
      "func:'convert_coordinates_to_aev'  took: 235.9434 sec\n",
      "['O', 'H', 'H']\n"
     ]
    },
    {
     "name": "stderr",
     "output_type": "stream",
     "text": [
      "  2%|█▋                                                                                  | 1/50 [00:00<00:05,  9.57it/s]"
     ]
    },
    {
     "name": "stdout",
     "output_type": "stream",
     "text": [
      "Epoch 1/50 - Loss: 3060.517\n",
      "              Val_loss: 608.713\n",
      "              Batch_size: 128.000\n"
     ]
    },
    {
     "name": "stderr",
     "output_type": "stream",
     "text": [
      " 24%|███████████████████▉                                                               | 12/50 [00:01<00:06,  6.01it/s]"
     ]
    },
    {
     "name": "stdout",
     "output_type": "stream",
     "text": [
      "Epoch 11/50 - Loss: 2.136\n",
      "              Val_loss: 2.520\n",
      "              Batch_size: 128.000\n"
     ]
    },
    {
     "name": "stderr",
     "output_type": "stream",
     "text": [
      " 44%|████████████████████████████████████▌                                              | 22/50 [00:03<00:05,  5.54it/s]"
     ]
    },
    {
     "name": "stdout",
     "output_type": "stream",
     "text": [
      "Epoch 21/50 - Loss: 0.462\n",
      "              Val_loss: 0.474\n",
      "              Batch_size: 128.000\n"
     ]
    },
    {
     "name": "stderr",
     "output_type": "stream",
     "text": [
      " 64%|█████████████████████████████████████████████████████                              | 32/50 [00:05<00:03,  4.96it/s]"
     ]
    },
    {
     "name": "stdout",
     "output_type": "stream",
     "text": [
      "Epoch 31/50 - Loss: 0.293\n",
      "              Val_loss: 0.311\n",
      "              Batch_size: 128.000\n"
     ]
    },
    {
     "name": "stderr",
     "output_type": "stream",
     "text": [
      " 84%|█████████████████████████████████████████████████████████████████████▋             | 42/50 [00:07<00:01,  6.31it/s]"
     ]
    },
    {
     "name": "stdout",
     "output_type": "stream",
     "text": [
      "Epoch 41/50 - Loss: 0.239\n",
      "              Val_loss: 0.244\n",
      "              Batch_size: 128.000\n"
     ]
    },
    {
     "name": "stderr",
     "output_type": "stream",
     "text": [
      "                                                                                                                        \r"
     ]
    },
    {
     "name": "stdout",
     "output_type": "stream",
     "text": [
      "func:'train'  took: 8.7585 sec\n"
     ]
    },
    {
     "data": {
      "image/png": "[encoded data removed]",
      "text/plain": [
       "<Figure size 432x288 with 1 Axes>"
      ]
     },
     "metadata": {
      "needs_background": "light"
     },
     "output_type": "display_data"
    },
    {
     "data": {
      "image/png": "[encoded data removed]",
      "text/plain": [
       "<Figure size 432x288 with 1 Axes>"
      ]
     },
     "metadata": {
      "needs_background": "light"
     },
     "output_type": "display_data"
    },
    {
     "data": {
      "image/png": "[encoded data removed]",
      "text/plain": [
       "<Figure size 432x288 with 1 Axes>"
      ]
     },
     "metadata": {
      "needs_background": "light"
     },
     "output_type": "display_data"
    }
   ],
   "source": [
    "# The commented code below will get all the molecules for a h5 file in the ANI-1 dataset\n",
    "'''\n",
    "list_files_2 = ['ANI-1_release/ani_gdb_s01.h5']\n",
    "\n",
    "data_set_X = []\n",
    "y_energies = []\n",
    "\n",
    "for i in list_files_2:\n",
    "    hdf5file = i\n",
    "    print(i)\n",
    "    # Construct the data loader class\n",
    "    data = pya.anidataloader(hdf5file)\n",
    "    data_iter = data.__iter__()\n",
    "    for mol in data_iter:  \n",
    "        data_set_X.append({'species': mol['species'], 'coordinates': mol['coordinates']})\n",
    "        y_energies.append(mol['energies'])\n",
    "'''\n",
    "# Intialize the model outside of the for loop which loops through the molecules in the data_set_X\n",
    "ANI_1 = ANI()\n",
    "ANI_trainer_1 = Trainer(ANI_1, \"adam\", 2e-3, 50, 128)\n",
    "\n",
    "# Turn this into a function\n",
    "for i in range(len(data_set_X)):\n",
    "    mol = data_set_X[i]\n",
    "    mol_energies = y_energies[i]\n",
    "    mol_atoms = data_set_X[i]['species']\n",
    "\n",
    "    mol_aevs = convert_coordinates_to_aev(mol['coordinates'], mol['species'])\n",
    "    print(mol_atoms)\n",
    "\n",
    "    mol_x_train, mol_x_test, mol_y_train, mol_y_test = train_test_split(mol_aevs, mol_energies, test_size=1/3, random_state=42)\n",
    "    mol_x_train, mol_x_val, mol_y_train, mol_y_val = train_test_split(mol_x_train, mol_y_train, test_size=1/3, random_state=42)\n",
    "\n",
    "    ANI_trainer_1.train(mol_atoms, mol_x_train, mol_y_train, mol_x_val, mol_y_val)    \n",
    "    "
   ]
  },
  {
   "cell_type": "code",
   "execution_count": null,
   "id": "4ac92e3e",
   "metadata": {},
   "outputs": [],
   "source": []
  },
  {
   "cell_type": "code",
   "execution_count": null,
   "id": "5efa989c",
   "metadata": {},
   "outputs": [],
   "source": []
  }
 ],
 "metadata": {
  "kernelspec": {
   "display_name": "Python 3 (ipykernel)",
   "language": "python",
   "name": "python3"
  },
  "language_info": {
   "codemirror_mode": {
    "name": "ipython",
    "version": 3
   },
   "file_extension": ".py",
   "mimetype": "text/x-python",
   "name": "python",
   "nbconvert_exporter": "python",
   "pygments_lexer": "ipython3",
   "version": "3.9.7"
  }
 },
 "nbformat": 4,
 "nbformat_minor": 5
}
