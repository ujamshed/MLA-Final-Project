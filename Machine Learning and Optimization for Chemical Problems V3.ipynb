{
 "cells": [
  {
   "cell_type": "markdown",
   "id": "ccbc3745",
   "metadata": {},
   "source": [
    "# Checkpoint #1"
   ]
  },
  {
   "cell_type": "code",
   "execution_count": 2,
   "id": "92366bab",
   "metadata": {},
   "outputs": [],
   "source": [
    "import numpy as np\n",
    "from torch import nn\n",
    "import torchani\n",
    "import torch\n",
    "import matplotlib.pyplot as plt\n",
    "from sklearn.model_selection import train_test_split\n",
    "%matplotlib inline"
   ]
  },
  {
   "cell_type": "code",
   "execution_count": 3,
   "id": "1891eea9",
   "metadata": {},
   "outputs": [],
   "source": [
    "import ANI1datatools.pyanitools as pya"
   ]
  },
  {
   "cell_type": "code",
   "execution_count": 4,
   "id": "24e02bb7",
   "metadata": {},
   "outputs": [
    {
     "name": "stderr",
     "output_type": "stream",
     "text": [
      "/global/homes/j/jamshedu/.local/perlmutter/pytorch1.9.0/lib/python3.8/site-packages/ANI1datatools/pyanitools.py:48: H5pyDeprecationWarning: The default file mode will change to 'r' (read-only) in h5py 3.0. To suppress this warning, pass the mode you need to h5py.File(), or set the global default h5.get_config().default_file_mode, or set the environment variable H5PY_DEFAULT_READONLY=1. Available modes are: 'r', 'r+', 'w', 'w-'/'x', 'a'. See the docs for details.\n",
      "  self.store = h5py.File(store_file)\n"
     ]
    }
   ],
   "source": [
    "# Set the HDF5 file containing the data\n",
    "hdf5file = 'ANI-1_release/ani_gdb_s01.h5'\n",
    "\n",
    "# Construct the data loader class\n",
    "data = pya.anidataloader(hdf5file)\n",
    "data_iter = data.__iter__()\n",
    "# Print the species of the data set one by one\n"
   ]
  },
  {
   "cell_type": "code",
   "execution_count": 5,
   "id": "c7648a14",
   "metadata": {},
   "outputs": [
    {
     "name": "stdout",
     "output_type": "stream",
     "text": [
      "Path:    /gdb11_s01/gdb11_s01-0\n",
      "  Smiles:       [H]C([H])([H])[H]\n",
      "  Symbols:      ['C', 'H', 'H', 'H', 'H']\n",
      "  Coordinates:  (5400, 5, 3)\n",
      "  Energies:     (5400,) \n",
      "\n"
     ]
    }
   ],
   "source": [
    "mols = next(data_iter)\n",
    "# Extract the data\n",
    "P = mols['path']\n",
    "X = mols['coordinates']\n",
    "E = mols['energies']\n",
    "S = mols['species']\n",
    "sm = mols['smiles']\n",
    "\n",
    "# Print the data\n",
    "print(\"Path:   \", P)\n",
    "print(\"  Smiles:      \",\"\".join(sm))\n",
    "print(\"  Symbols:     \", S)\n",
    "print(\"  Coordinates: \", X.shape)\n",
    "print(\"  Energies:    \", E.shape, \"\\n\")"
   ]
  },
  {
   "cell_type": "markdown",
   "id": "5422a5bf",
   "metadata": {},
   "source": [
    "# Preliminary Information:\n",
    "\n",
    "## Length of the coordinates is how many conformations there are for each molecule. This length is the same for final energies we need to predict. Ex. for water there are 1800 conformations and 1800 energies associated with them.\n",
    "\n",
    "## Shape of the coordinates is rows x columns x array. Where each array is a coordinate value x, y, z. The rows correspond to each conformation and the columns correspond to each chemical species in the compound"
   ]
  },
  {
   "cell_type": "markdown",
   "id": "d1cfad92",
   "metadata": {},
   "source": [
    "## Working with the water molecule from s01 to show that the molecule can be read, train-test-split can be performed and batching occurs. Currently am calculating AEVs before conducting train-test-split, in the future may consider conducting train-test-split before calculating AEVs."
   ]
  },
  {
   "cell_type": "code",
   "execution_count": 6,
   "id": "631c0e16",
   "metadata": {},
   "outputs": [
    {
     "name": "stdout",
     "output_type": "stream",
     "text": [
      "ANI-1_release/ani_gdb_s01.h5\n"
     ]
    }
   ],
   "source": [
    "list_files_2 = ['ANI-1_release/ani_gdb_s01.h5']\n",
    "\n",
    "data_set_X = []\n",
    "y_energies = []\n",
    "\n",
    "for i in list_files_2:\n",
    "    hdf5file = i\n",
    "    print(i)\n",
    "    # Construct the data loader class\n",
    "    data = pya.anidataloader(hdf5file)\n",
    "    data_iter = data.__iter__()\n",
    "    for mol in data_iter:  \n",
    "        data_set_X.append({'species': mol['species'], 'coordinates': mol['coordinates']})\n",
    "        y_energies.append(mol['energies'])"
   ]
  },
  {
   "cell_type": "code",
   "execution_count": 7,
   "id": "f06e8e47",
   "metadata": {},
   "outputs": [
    {
     "data": {
      "text/plain": [
       "{'species': ['C', 'H', 'H', 'H', 'H'],\n",
       " 'coordinates': array([[[-0.0034502 ,  0.01017081,  0.01938033],\n",
       "         [-0.7954868 ,  0.5766599 , -0.5472012 ],\n",
       "         [-0.39378393, -0.97992676,  0.2722862 ],\n",
       "         [ 0.6344988 ,  0.4473651 ,  0.93568736],\n",
       "         [ 0.59581804, -0.16517928, -0.8915708 ]],\n",
       " \n",
       "        [[ 0.00311385, -0.02007288,  0.00282224],\n",
       "         [-0.78331304,  0.7921426 , -0.26027855],\n",
       "         [-0.45410746, -1.0295471 ,  0.31240797],\n",
       "         [ 0.44713658,  0.63571125,  0.76770777],\n",
       "         [ 0.7531731 , -0.1592813 , -0.85348135]],\n",
       " \n",
       "        [[-0.0177954 , -0.02192003, -0.01129478],\n",
       "         [-0.73020756,  0.6824338 , -0.30819252],\n",
       "         [-0.382202  , -0.86773723,  0.3822439 ],\n",
       "         [ 0.56933683,  0.50535196,  0.80417496],\n",
       "         [ 0.75492465, -0.05902938, -0.74378157]],\n",
       " \n",
       "        ...,\n",
       " \n",
       "        [[ 0.00874467,  0.00214323, -0.00896647],\n",
       "         [-0.85504687,  0.6273413 , -0.26081228],\n",
       "         [-0.47105345, -0.9456285 ,  0.3252177 ],\n",
       "         [ 0.48764503,  0.50858426,  0.85931367],\n",
       "         [ 0.7342992 , -0.21579494, -0.816997  ]],\n",
       " \n",
       "        [[ 0.00265332,  0.01679167,  0.02970096],\n",
       "         [-0.7641574 ,  0.5417239 , -0.6709583 ],\n",
       "         [-0.42493993, -1.0451285 ,  0.29268864],\n",
       "         [ 0.6569919 ,  0.40962765,  0.9470367 ],\n",
       "         [ 0.500478  , -0.10613752, -0.9224515 ]],\n",
       " \n",
       "        [[ 0.03539006, -0.00177199, -0.00804497],\n",
       "         [-0.95395136,  0.5715815 , -0.15887809],\n",
       "         [-0.63309413, -0.92448825,  0.22396699],\n",
       "         [ 0.45421714,  0.5900639 ,  0.75088745],\n",
       "         [ 0.71141016, -0.21603724, -0.72022647]]], dtype=float32)}"
      ]
     },
     "execution_count": 7,
     "metadata": {},
     "output_type": "execute_result"
    }
   ],
   "source": [
    "data_set_X[0]"
   ]
  },
  {
   "cell_type": "code",
   "execution_count": 8,
   "id": "0138c33b",
   "metadata": {},
   "outputs": [
    {
     "name": "stdout",
     "output_type": "stream",
     "text": [
      "Length of final data set X is: 3\n"
     ]
    }
   ],
   "source": [
    "print(f'Length of final data set X is: {len(data_set_X)}')"
   ]
  },
  {
   "cell_type": "markdown",
   "id": "01b5ed89",
   "metadata": {},
   "source": [
    "## Each AEV is 384 elements long and corresponds to 1 atom of a molecule in 1 conformation.\n",
    "## So for s01, where there are 3 molecules, \n",
    "## CH4 (5400 conformations, 5 aevs/conformation), NH3 (3600 conformations, 4 aevs/conformation), H20 (1800, 3 aevs/conformation)\n",
    "## total aevs = 27,000, 14,400, 5400\n",
    "## For Water the shape we should use is (1800, 3, 384), 1800 conformations for (3 x 384)"
   ]
  },
  {
   "cell_type": "code",
   "execution_count": 11,
   "id": "574caab0",
   "metadata": {},
   "outputs": [
    {
     "data": {
      "text/plain": [
       "(1800, 3, 3)"
      ]
     },
     "execution_count": 11,
     "metadata": {},
     "output_type": "execute_result"
    }
   ],
   "source": [
    "water = data_set_X[2]\n",
    "water_energies = y_energies[2]\n",
    "water['coordinates'].shape"
   ]
  },
  {
   "cell_type": "code",
   "execution_count": 12,
   "id": "c4db21f9",
   "metadata": {},
   "outputs": [],
   "source": [
    "from functools import wraps\n",
    "from time import time\n",
    "from tqdm import tqdm\n",
    "\n",
    "def timing(f):\n",
    "    @wraps(f)\n",
    "    def wrap(*args, **kw):\n",
    "        ts = time()\n",
    "        result = f(*args, **kw)\n",
    "        te = time()\n",
    "        print('func:%r  took: %2.4f sec' % (f.__name__,  te-ts))\n",
    "        return result\n",
    "    return wrap"
   ]
  },
  {
   "cell_type": "markdown",
   "id": "279bc469",
   "metadata": {},
   "source": [
    "## Function to convert coordinates to AEV for a molecule, with an output shape of (num_conformations, num_atoms, 384), using torchani library is faster, see below."
   ]
  },
  {
   "cell_type": "code",
   "execution_count": 48,
   "id": "c162d0f3-265f-4293-a377-cd2dcde1dec4",
   "metadata": {},
   "outputs": [],
   "source": [
    "@timing\n",
    "def convert_coord_to_aev(coordinates, species):\n",
    "    mapping={\"H\":0, \"C\":1, \"N\":2, \"O\":3}\n",
    "\n",
    "    Rcr = 5.2\n",
    "    EtaR = torch.tensor([16], dtype=torch.float)\n",
    "    ShfR = torch.tensor([0.900000,1.168750,1.437500,1.706250,1.975000,2.243750,2.51250,2.781250,3.050000, 3.318750,3.587500,3.856250,4.125000,4.39375,4.662500,4.931250], dtype=torch.float)\n",
    "\n",
    "    Rca = 3.5\n",
    "    EtaA = torch.tensor([8], dtype=torch.float)\n",
    "    ShfA = torch.tensor([0.900000,1.550000,2.200000,2.850000], dtype=torch.float)\n",
    "    ShfZ = torch.tensor([0.19634954,0.58904862,0.9817477,1.3744468,1.7671459,2.1598449,2.552544,2.945243], dtype=torch.float)\n",
    "    Zeta = torch.tensor([32], dtype=torch.float)\n",
    "\n",
    "    num_species = 4\n",
    "\n",
    "    elements = np.array([mapping[atom] for atom in species])\n",
    "    atom_types = np.repeat(elements.reshape(1, len(elements)), len(coordinates), axis=0)\n",
    "    #print(atom_types.shape)\n",
    "    #print(coordinates.shape)\n",
    "    #print(f'Test torch shape:{torch.tensor(atom_types, dtype=torch.int).size()}')\n",
    "    #print(f'Test torch shape:{torch.tensor(coordinates, dtype=torch.float).size()}')\n",
    "\n",
    "    AEVComputer = torchani.AEVComputer(Rcr, Rca, EtaR, ShfR, EtaA, Zeta, ShfA, ShfZ, num_species)\n",
    "\n",
    "    torch_tuple = (torch.tensor(atom_types, dtype=torch.long), torch.tensor(coordinates, dtype=torch.float))\n",
    "    x = AEVComputer(torch_tuple)\n",
    "    return x[1].detach().numpy()"
   ]
  },
  {
   "cell_type": "code",
   "execution_count": 39,
   "id": "99cc4472",
   "metadata": {},
   "outputs": [],
   "source": [
    "water_aevs = convert_coord_to_aev(water['coordinates'], water['species'])"
   ]
  },
  {
   "cell_type": "code",
   "execution_count": 40,
   "id": "948bb40c",
   "metadata": {},
   "outputs": [
    {
     "data": {
      "text/plain": [
       "(1800, 3, 384)"
      ]
     },
     "execution_count": 40,
     "metadata": {},
     "output_type": "execute_result"
    }
   ],
   "source": [
    "water_aevs.shape"
   ]
  },
  {
   "cell_type": "code",
   "execution_count": 17,
   "id": "dff5f5ff",
   "metadata": {},
   "outputs": [
    {
     "data": {
      "text/plain": [
       "['O', 'H', 'H']"
      ]
     },
     "execution_count": 17,
     "metadata": {},
     "output_type": "execute_result"
    }
   ],
   "source": [
    "water_atoms = data_set_X[2]['species']\n",
    "water_atoms"
   ]
  },
  {
   "cell_type": "markdown",
   "id": "8b10bc60",
   "metadata": {},
   "source": [
    "# Train Test Validation Splits\n",
    "\n",
    "## Splitting the water_aevs (1800, 3, 384) and water_energies(1800,) into training, testing and validation sets below. These sets will be passed into our Trainer class to be further split into batches."
   ]
  },
  {
   "cell_type": "code",
   "execution_count": 18,
   "id": "3f6a81d4",
   "metadata": {},
   "outputs": [],
   "source": [
    "# setting seed with random_state = 42\n",
    "mol_x_train, mol_x_test, mol_y_train, mol_y_test = train_test_split(water_aevs, water_energies, test_size=1/3, random_state=42)"
   ]
  },
  {
   "cell_type": "code",
   "execution_count": 19,
   "id": "7daf3b81",
   "metadata": {},
   "outputs": [
    {
     "name": "stdout",
     "output_type": "stream",
     "text": [
      "Input shape for molecule training: (1200, 3, 384)\n",
      "Output shape for molecule training: (1200,)\n",
      "Input shape for molecule testing: (600, 3, 384)\n",
      "Output shape for molecule testing: (600,)\n"
     ]
    }
   ],
   "source": [
    "print(f'Input shape for molecule training: {mol_x_train.shape}')\n",
    "print(f'Output shape for molecule training: {mol_y_train.shape}')\n",
    "print(f'Input shape for molecule testing: {mol_x_test.shape}')\n",
    "print(f'Output shape for molecule testing: {mol_y_test.shape}')"
   ]
  },
  {
   "cell_type": "code",
   "execution_count": 20,
   "id": "1f8264d9",
   "metadata": {},
   "outputs": [],
   "source": [
    "# setting seed with random_state = 42\n",
    "mol_x_train, mol_x_val, mol_y_train, mol_y_val = train_test_split(mol_x_train, mol_y_train, test_size=1/3, random_state=42)"
   ]
  },
  {
   "cell_type": "code",
   "execution_count": 21,
   "id": "aa35b922",
   "metadata": {},
   "outputs": [
    {
     "name": "stdout",
     "output_type": "stream",
     "text": [
      "Input shape for molecule training: (800, 3, 384)\n",
      "Output shape for molecule training: (800,)\n",
      "Input shape for molecule validation: (400, 3, 384)\n",
      "Output shape for molecule validation: (400,)\n"
     ]
    }
   ],
   "source": [
    "print(f'Input shape for molecule training: {mol_x_train.shape}')\n",
    "print(f'Output shape for molecule training: {mol_y_train.shape}')\n",
    "print(f'Input shape for molecule validation: {mol_x_val.shape}')\n",
    "print(f'Output shape for molecule validation: {mol_y_val.shape}')"
   ]
  },
  {
   "cell_type": "code",
   "execution_count": 22,
   "id": "605c13a1",
   "metadata": {},
   "outputs": [],
   "source": [
    "# Look into splitting the molecule before into train test split and then calculate aevs and then send it into the training"
   ]
  },
  {
   "cell_type": "markdown",
   "id": "63573fac",
   "metadata": {},
   "source": [
    "## Creating a Preliminary Model"
   ]
  },
  {
   "cell_type": "code",
   "execution_count": 43,
   "id": "22cc55cb",
   "metadata": {},
   "outputs": [],
   "source": [
    "class ANI(nn.Module):\n",
    "    def __init__(self):\n",
    "        super(ANI, self).__init__()\n",
    "        self.sub_nets = nn.ModuleDict({\"C\": ANI_sub(nn.Sequential(\n",
    "                                                    nn.Linear(384,150),\n",
    "                                                    #nn.LeakyReLU(0.1),\n",
    "                                                    nn.PReLU(),\n",
    "                                                    nn.Linear(150, 50),\n",
    "                                                    #nn.LeakyReLU(0.1),\n",
    "                                                    nn.PReLU(),\n",
    "                                                    nn.Linear(50, 1)\n",
    "                                                )), \n",
    "                                       \"H\": ANI_sub(nn.Sequential(\n",
    "                                                    nn.Linear(384,150),\n",
    "                                                    #nn.LeakyReLU(0.1),\n",
    "                                                    nn.PReLU(),\n",
    "                                                    nn.Linear(150, 50),\n",
    "                                                    nn.PReLU(),\n",
    "                                                    #nn.LeakyReLU(0.1),\n",
    "                                                    nn.Linear(50, 1)\n",
    "                                                )),                                         \n",
    "                                       \"N\": ANI_sub(nn.Sequential(\n",
    "                                                    nn.Linear(384,150),\n",
    "                                                    #nn.LeakyReLU(0.1),\n",
    "                                                    nn.PReLU(),\n",
    "                                                    nn.Linear(150, 50),\n",
    "                                                    #nn.LeakyReLU(0.1),\n",
    "                                                    nn.PReLU(),\n",
    "                                                    nn.Linear(50, 1)\n",
    "                                                )), \n",
    "                                       \"O\": ANI_sub(nn.Sequential(\n",
    "                                                    nn.Linear(384,150),\n",
    "                                                    nn.PReLU(),\n",
    "                                                    #nn.LeakyReLU(0.1),\n",
    "                                                    nn.Linear(150, 50),\n",
    "                                                    nn.PReLU(),\n",
    "                                                    #nn.LeakyReLU(0.1),\n",
    "                                                    nn.Linear(50, 1)\n",
    "                                                ))})\n",
    "\n",
    "    ## We cannot use ReLU functions because there are negative values in our AEVs and backpropogation will fail because\n",
    "    ## the derivative of ReLU will be 0.\n",
    "    def forward(self, aevs, atom_types):\n",
    "        \n",
    "        num_conformations, num_atoms, aev_vector_length = list(aevs.size())\n",
    "        '''\n",
    "        print(num_conformations)\n",
    "        print(num_atoms)\n",
    "        print(aev_vector_length)\n",
    "        '''\n",
    "        new_shape_aevs = aevs.view(num_atoms, num_conformations, aev_vector_length)\n",
    "        #print(f'New shape is: {new_shape_aevs.size()}')\n",
    "       \n",
    "        atomic_energies = torch.zeros(num_conformations, 1)\n",
    "        #print(f'New shape is: {atomic_energies.size()}')\n",
    "        for i in range(len(atom_types)):\n",
    "            #print(self.sub_nets[atom_types[i]](new_shape_aevs[i]))\n",
    "            #print(f'Return shape is: {self.sub_nets[atom_types[i]](new_shape_aevs[i]).size()}')\n",
    "            atomic_energies += self.sub_nets[atom_types[i]](new_shape_aevs[i])\n",
    "            #atomic_energies.cat()\n",
    "        # convert atomic energies to tensor and then sum up values in each row (sum all the columns for a row) \n",
    "        # to get an 1800 x 1 vector.\n",
    "        #print((atomic_energies).shape)\n",
    "        \n",
    "        #atomic_energies = np.array(holding_list).T\n",
    "        \n",
    "        #print(f'Complete atomic energies: {atomic_energies}')\n",
    "        #print(f'Complete atomic energies: {atomic_energies[0].shape}')\n",
    "        \n",
    "        #atomic_energies = torch.tensor(atomic_energies[0], dtype=torch.float)\n",
    "        \n",
    "        # dim = 1 to sum on columns\n",
    "        #total_energies = torch.sum(atomic_energies,dim=1)\n",
    "        #print(atomic_energies)\n",
    "        return atomic_energies.view(num_conformations)\n",
    "\n",
    "class ANI_sub(nn.Module):\n",
    "    def __init__(self, architecture):\n",
    "        super(ANI_sub, self).__init__()\n",
    "        self.layers = architecture\n",
    "\n",
    "    def forward(self, aev):\n",
    "        #aev = torch.tensor(aev, dtype=torch.float)\n",
    "        atomic_energy = self.layers(aev)\n",
    "        #print(atomic_energy)\n",
    "        return atomic_energy\n"
   ]
  },
  {
   "cell_type": "markdown",
   "id": "2ddd949d",
   "metadata": {},
   "source": [
    "## Trainer Class that will convert Training and Validation sets of our data into batches for use in our model"
   ]
  },
  {
   "cell_type": "code",
   "execution_count": 29,
   "id": "774ab970",
   "metadata": {},
   "outputs": [],
   "source": [
    "from torch.optim import SGD, Adam\n",
    "from torch import nn\n",
    "import torch\n",
    "import torch.nn.functional as F\n",
    "import random\n",
    "from tqdm import tqdm\n",
    "import math\n",
    "from sklearn.model_selection import train_test_split\n",
    "import matplotlib.pyplot as plt\n",
    "\n",
    "def create_chunks(complete_list, chunk_size=None, num_chunks=None):\n",
    "    '''\n",
    "    Cut a list into multiple chunks, each having chunk_size (the last chunk might be less than chunk_size) or having a total of num_chunk chunks\n",
    "    '''\n",
    "    chunks = []\n",
    "    if num_chunks is None:\n",
    "        num_chunks = math.ceil(len(complete_list) / chunk_size)\n",
    "    elif chunk_size is None:\n",
    "        chunk_size = math.ceil(len(complete_list) / num_chunks)\n",
    "    for i in range(num_chunks):\n",
    "        chunks.append(complete_list[i * chunk_size: (i + 1) * chunk_size])\n",
    "    return chunks\n",
    "\n",
    "class Trainer():\n",
    "    def __init__(self, model, optimizer_type, learning_rate, epoch, batch_size):\n",
    "        \"\"\" The class for training the model\n",
    "        model: nn.Module\n",
    "            A pytorch model\n",
    "        optimizer_type: 'adam' or 'sgd'\n",
    "        learning_rate: float\n",
    "        epoch: int\n",
    "        batch_size: int\n",
    "        input_transform: func\n",
    "            transforming input. Can do reshape here\n",
    "        \"\"\"\n",
    "        self.model = model\n",
    "        if optimizer_type == \"sgd\":\n",
    "            self.optimizer = SGD(model.parameters(), learning_rate,momentum=0.9)\n",
    "        elif optimizer_type == \"adam\":\n",
    "            self.optimizer = Adam(model.parameters(), learning_rate)\n",
    "            \n",
    "        self.epoch = epoch\n",
    "        self.batch_size = batch_size\n",
    "\n",
    "    @timing\n",
    "    def train(self, atom_types, inputs, outputs, val_inputs, val_outputs, draw_curve=True, early_stop=False,l2=False,silent=False):\n",
    "        \"\"\" train self.model with specified arguments\n",
    "        inputs: np.array, The shape of input_transform(input) should be (ndata,nfeatures) should be 32x32.\n",
    "        outputs: np.array shape (ndata,)\n",
    "        val_nputs: np.array, The shape of input_transform(val_input) should be (ndata,nfeatures)\n",
    "        val_outputs: np.array shape (ndata,)\n",
    "        early_stop: bool\n",
    "        l2: bool\n",
    "        silent: bool. Controls whether or not to print the train and val error during training\n",
    "        \n",
    "        @return\n",
    "        a dictionary of arrays with train and val losses and accuracies\n",
    "        \"\"\"\n",
    "        ### convert data to tensor of correct shape and type here ###\n",
    "        #...\n",
    "        inputs = torch.tensor(inputs, dtype=torch.float)\n",
    "        outputs = torch.tensor(outputs, dtype=torch.float)\n",
    "                \n",
    "        losses = []\n",
    "        val_losses = []\n",
    "        weights = self.model.state_dict()\n",
    "        lowest_val_loss = np.inf\n",
    "        \n",
    "        loss_func = nn.MSELoss()\n",
    "        \n",
    "        for n_epoch in tqdm(range(self.epoch), leave=False):\n",
    "            self.model.train()\n",
    "            batch_indices = list(range(inputs.shape[0]))\n",
    "            random.shuffle(batch_indices)\n",
    "            batch_indices = create_chunks(batch_indices, chunk_size=self.batch_size)\n",
    "            epoch_loss = 0\n",
    "            #epoch_acc = 0\n",
    "            for batch in batch_indices:\n",
    "                batch_importance = len(batch) / len(outputs)\n",
    "                batch_input = inputs[batch]\n",
    "                batch_output = outputs[batch]\n",
    "                ### make prediction and compute loss with loss function of your choice on this batch ###\n",
    "                # self.model(aevs, atom_types)\n",
    "                \n",
    "                #print(batch_input.shape)\n",
    "        \n",
    "                batch_predictions = self.model(batch_input, atom_types)\n",
    "                \n",
    "                #print(batch_predictions.shape)\n",
    "\n",
    "                #MSELoss here.\n",
    "                loss = loss_func(batch_predictions, batch_output) \n",
    "                \n",
    "                #print(loss)\n",
    "                if l2:\n",
    "                    ### Compute the loss with L2 regularization ###\n",
    "                    l2_norm = sum([p.pow(2.0).sum() for p in self.model.parameters()])\n",
    "                    loss = loss + 0.00001 * l2_norm\n",
    "                    #lambda is 1e-5 == 0.00001\n",
    "                    \n",
    "                self.optimizer.zero_grad()\n",
    "                loss.backward()\n",
    "                self.optimizer.step()\n",
    "                \n",
    "                ### Compute epoch_loss \n",
    "\n",
    "                epoch_loss += loss.detach().cpu().item() * batch_importance\n",
    "\n",
    "            #print(val_inputs.shape)\n",
    "            val_loss = self.evaluate(atom_types, val_inputs, val_outputs)\n",
    "            if n_epoch % 10 ==0 and not silent:\n",
    "                print(\"Epoch %d/%d - Loss: %.3f\" % (n_epoch + 1, self.epoch, epoch_loss))\n",
    "                print(\"              Val_loss: %.3f\" % (val_loss))\n",
    "                print(\"              Batch_size: %.3f\" % (self.batch_size))\n",
    "            losses.append(epoch_loss)\n",
    "            val_losses.append(val_loss)\n",
    "            '''\n",
    "            xd = 0\n",
    "            for param in self.model.parameters():\n",
    "                print(f'Parameter {xd}: {param}')\n",
    "                xd+=1\n",
    "            '''    \n",
    "            if early_stop:\n",
    "                if val_loss < lowest_val_loss:\n",
    "                    lowest_val_loss = val_loss\n",
    "                    weights = self.model.state_dict()\n",
    "        \n",
    "        if draw_curve:\n",
    "            plt.figure()\n",
    "            plt.plot(np.arange(self.epoch) + 1,losses,label='Training loss')\n",
    "            plt.plot(np.arange(self.epoch) + 1,val_losses,label='Validation loss')\n",
    "            plt.xlabel('Epochs')\n",
    "            plt.ylabel('Loss')\n",
    "            plt.title(atom_types)\n",
    "            plt.legend()\n",
    "        \n",
    "        if early_stop:\n",
    "            self.model.load_state_dict(weights)    \n",
    "        \n",
    "        return {\"losses\": losses, \"val_losses\": val_losses}\n",
    "        \n",
    "    def evaluate(self, atom_types, inputs, outputs, print_loss=False):\n",
    "        \"\"\" evaluate model on provided input and output\n",
    "        inputs: np.array, The shape of input_transform(input) should be (ndata,nfeatures)\n",
    "        outputs: np.array shape (ndata,)\n",
    "        print_acc: bool\n",
    "        \n",
    "        @return\n",
    "        losses: float\n",
    "        acc: float\n",
    "        \"\"\"\n",
    "        inputs = torch.tensor(inputs, dtype=torch.float)\n",
    "        outputs = torch.tensor(outputs, dtype=torch.float)\n",
    "        \n",
    "        loss_func = nn.MSELoss()\n",
    "        \n",
    "        self.model.eval()\n",
    "        batch_indices = list(range(inputs.shape[0]))\n",
    "        batch_indices = create_chunks(batch_indices, chunk_size=self.batch_size)\n",
    "        #print(f\"batch indices length = {len(batch_indices)}\")\n",
    "        #print(f\"output length = {len(outputs)}\")\n",
    "        losses = 0\n",
    "        for batch in batch_indices:\n",
    "            batch_importance = len(batch) / len(outputs)\n",
    "            batch_input = inputs[batch]\n",
    "            batch_output = outputs[batch]\n",
    "            with torch.no_grad():\n",
    "                ### Compute prediction and loss###\n",
    "                batch_predictions = self.model(batch_input, atom_types)\n",
    "                #print(batch_predictions)\n",
    "                #print(len(batch_input))\n",
    "                #print(batch_importance)\n",
    "                '''\n",
    "                print(batch_predictions)\n",
    "                print(batch_output)\n",
    "                '''\n",
    "                loss = loss_func(batch_predictions, batch_output)\n",
    "                #print(loss)\n",
    "                \n",
    "            losses += loss.detach().cpu().item() * batch_importance\n",
    "        if print_loss:\n",
    "            print(\"Val Loss: %.3f\" % losses, \"Batch size: %.3f\" % self.batch_size)\n",
    "        return losses"
   ]
  },
  {
   "cell_type": "code",
   "execution_count": 30,
   "id": "71a1f57a",
   "metadata": {},
   "outputs": [],
   "source": [
    "ANI = ANI()"
   ]
  },
  {
   "cell_type": "code",
   "execution_count": 31,
   "id": "6e53bec9",
   "metadata": {},
   "outputs": [],
   "source": [
    "ANI_trainer = Trainer(ANI, \"adam\", 2e-3, 50, 128)"
   ]
  },
  {
   "cell_type": "code",
   "execution_count": 32,
   "id": "4f43d425",
   "metadata": {
    "scrolled": true
   },
   "outputs": [
    {
     "name": "stderr",
     "output_type": "stream",
     "text": [
      " 12%|█▏        | 6/50 [00:00<00:00, 51.64it/s]"
     ]
    },
    {
     "name": "stdout",
     "output_type": "stream",
     "text": [
      "Epoch 1/50 - Loss: 5748.761\n",
      "              Val_loss: 5662.833\n",
      "              Batch_size: 128.000\n",
      "Epoch 11/50 - Loss: 33.537\n",
      "              Val_loss: 30.382\n",
      "              Batch_size: 128.000\n"
     ]
    },
    {
     "name": "stderr",
     "output_type": "stream",
     "text": [
      " 60%|██████    | 30/50 [00:00<00:00, 52.05it/s]"
     ]
    },
    {
     "name": "stdout",
     "output_type": "stream",
     "text": [
      "Epoch 21/50 - Loss: 1.665\n",
      "              Val_loss: 1.534\n",
      "              Batch_size: 128.000\n",
      "Epoch 31/50 - Loss: 1.045\n",
      "              Val_loss: 0.910\n",
      "              Batch_size: 128.000\n"
     ]
    },
    {
     "name": "stderr",
     "output_type": "stream",
     "text": [
      "                                               "
     ]
    },
    {
     "name": "stdout",
     "output_type": "stream",
     "text": [
      "Epoch 41/50 - Loss: 0.756\n",
      "              Val_loss: 0.680\n",
      "              Batch_size: 128.000\n",
      "func:'train'  took: 0.9755 sec\n"
     ]
    },
    {
     "name": "stderr",
     "output_type": "stream",
     "text": [
      "\r"
     ]
    },
    {
     "data": {
      "image/png": "[encoded data removed]",
      "text/plain": [
       "<Figure size 432x288 with 1 Axes>"
      ]
     },
     "metadata": {
      "needs_background": "light"
     },
     "output_type": "display_data"
    }
   ],
   "source": [
    "log=ANI_trainer.train(water_atoms, mol_x_train, mol_y_train, mol_x_val, mol_y_val)"
   ]
  },
  {
   "cell_type": "code",
   "execution_count": 26,
   "id": "600c1625",
   "metadata": {},
   "outputs": [
    {
     "data": {
      "text/plain": [
       "{'losses': [5800.25408203125,\n",
       "  5467.49689453125,\n",
       "  4654.453398437499,\n",
       "  3158.283974609375,\n",
       "  1205.684072265625,\n",
       "  87.92128143310549,\n",
       "  317.03612426757815,\n",
       "  71.50229290008546,\n",
       "  49.784417724609376,\n",
       "  49.86687286376953,\n",
       "  14.125180931091307,\n",
       "  22.11478225708008,\n",
       "  11.158614501953124,\n",
       "  11.220584106445314,\n",
       "  10.315771408081055,\n",
       "  8.148899841308594,\n",
       "  7.383278102874756,\n",
       "  7.28473222732544,\n",
       "  6.604299640655517,\n",
       "  5.642253589630126,\n",
       "  5.526977844238281,\n",
       "  4.610547256469727,\n",
       "  4.460895195007324,\n",
       "  4.0583260631561275,\n",
       "  3.674419574737549,\n",
       "  3.493509941101074,\n",
       "  3.186716041564941,\n",
       "  2.8892687606811527,\n",
       "  2.8076209259033202,\n",
       "  2.389150323867798,\n",
       "  2.1149167823791504,\n",
       "  2.112538471221924,\n",
       "  1.8608088827133178,\n",
       "  1.7603516054153443,\n",
       "  1.5825294399261474,\n",
       "  1.5030388545989992,\n",
       "  1.3172003984451295,\n",
       "  1.2320582628250123,\n",
       "  1.1903484916687013,\n",
       "  1.0365194129943847,\n",
       "  1.0443460607528687,\n",
       "  0.8955001211166381,\n",
       "  0.8872990512847901,\n",
       "  0.8187233424186706,\n",
       "  0.7408372473716737,\n",
       "  0.7419434547424316,\n",
       "  0.7014075863361359,\n",
       "  0.7083899712562561,\n",
       "  0.6732484054565431,\n",
       "  0.6453223729133606],\n",
       " 'val_losses': [5648.19705078125,\n",
       "  5058.854746093751,\n",
       "  3835.1683007812503,\n",
       "  1950.675595703125,\n",
       "  229.16383178710936,\n",
       "  252.4239697265625,\n",
       "  163.95879333496092,\n",
       "  25.119768829345702,\n",
       "  73.24681152343749,\n",
       "  19.731134872436524,\n",
       "  19.09356483459473,\n",
       "  15.002304229736328,\n",
       "  11.56072166442871,\n",
       "  11.592624397277831,\n",
       "  8.946048278808593,\n",
       "  8.341891384124757,\n",
       "  7.636659240722657,\n",
       "  7.141792449951172,\n",
       "  6.5257236289978025,\n",
       "  5.936598243713379,\n",
       "  5.442015762329102,\n",
       "  5.044825038909912,\n",
       "  4.557979373931885,\n",
       "  4.156646757125855,\n",
       "  3.827236270904541,\n",
       "  3.5341485786437983,\n",
       "  3.2145942401885987,\n",
       "  2.9092473220825195,\n",
       "  2.6797686004638672,\n",
       "  2.4345849895477296,\n",
       "  2.2416946983337405,\n",
       "  2.073468041419983,\n",
       "  1.8679978942871096,\n",
       "  1.7207210445404053,\n",
       "  1.5881664419174195,\n",
       "  1.4612772822380067,\n",
       "  1.3558024859428406,\n",
       "  1.2833924889564514,\n",
       "  1.1696016430854799,\n",
       "  1.0850795793533325,\n",
       "  1.0277866435050966,\n",
       "  0.9562439227104188,\n",
       "  0.9049500823020935,\n",
       "  0.8491671752929688,\n",
       "  0.807675392627716,\n",
       "  0.7837256073951722,\n",
       "  0.7425567662715913,\n",
       "  0.7119966578483582,\n",
       "  0.7009458768367768,\n",
       "  0.6573536562919617]}"
      ]
     },
     "execution_count": 26,
     "metadata": {},
     "output_type": "execute_result"
    }
   ],
   "source": [
    "log"
   ]
  },
  {
   "cell_type": "markdown",
   "id": "845e9bf4",
   "metadata": {},
   "source": [
    "## The model is now working with the training and validation error not getting any lower for water. They are also not diverging so we are not over-fitting yet, however we could be under fitting. Now we will attempt to train on all the molecules in the s01 dataset (contains methane, ammonia, and water)."
   ]
  },
  {
   "cell_type": "markdown",
   "id": "bc7bc2fd-976f-4a95-8e60-9d15693db339",
   "metadata": {},
   "source": [
    "# Checkpoint 2"
   ]
  },
  {
   "cell_type": "code",
   "execution_count": 49,
   "id": "20818343",
   "metadata": {},
   "outputs": [
    {
     "name": "stdout",
     "output_type": "stream",
     "text": [
      "func:'convert_coord_to_aev'  took: 0.0760 sec\n",
      "['C', 'H', 'H', 'H', 'H']\n"
     ]
    },
    {
     "name": "stderr",
     "output_type": "stream",
     "text": [
      "  4%|▍         | 2/50 [00:00<00:03, 14.21it/s]"
     ]
    },
    {
     "name": "stdout",
     "output_type": "stream",
     "text": [
      "Epoch 1/50 - Loss: 1292.666\n",
      "              Val_loss: 424.137\n",
      "              Batch_size: 128.000\n"
     ]
    },
    {
     "name": "stderr",
     "output_type": "stream",
     "text": [
      " 24%|██▍       | 12/50 [00:00<00:02, 14.68it/s]"
     ]
    },
    {
     "name": "stdout",
     "output_type": "stream",
     "text": [
      "Epoch 11/50 - Loss: 0.693\n",
      "              Val_loss: 0.705\n",
      "              Batch_size: 128.000\n"
     ]
    },
    {
     "name": "stderr",
     "output_type": "stream",
     "text": [
      " 44%|████▍     | 22/50 [00:01<00:01, 14.68it/s]"
     ]
    },
    {
     "name": "stdout",
     "output_type": "stream",
     "text": [
      "Epoch 21/50 - Loss: 0.237\n",
      "              Val_loss: 0.258\n",
      "              Batch_size: 128.000\n"
     ]
    },
    {
     "name": "stderr",
     "output_type": "stream",
     "text": [
      " 64%|██████▍   | 32/50 [00:02<00:01, 14.62it/s]"
     ]
    },
    {
     "name": "stdout",
     "output_type": "stream",
     "text": [
      "Epoch 31/50 - Loss: 0.089\n",
      "              Val_loss: 0.098\n",
      "              Batch_size: 128.000\n"
     ]
    },
    {
     "name": "stderr",
     "output_type": "stream",
     "text": [
      " 84%|████████▍ | 42/50 [00:02<00:00, 14.46it/s]"
     ]
    },
    {
     "name": "stdout",
     "output_type": "stream",
     "text": [
      "Epoch 41/50 - Loss: 0.042\n",
      "              Val_loss: 0.043\n",
      "              Batch_size: 128.000\n"
     ]
    },
    {
     "name": "stderr",
     "output_type": "stream",
     "text": [
      "                                               \r"
     ]
    },
    {
     "name": "stdout",
     "output_type": "stream",
     "text": [
      "func:'train'  took: 3.4424 sec\n",
      "func:'convert_coord_to_aev'  took: 0.0305 sec\n",
      "['N', 'H', 'H', 'H']\n"
     ]
    },
    {
     "name": "stderr",
     "output_type": "stream",
     "text": [
      "  6%|▌         | 3/50 [00:00<00:02, 21.36it/s]"
     ]
    },
    {
     "name": "stdout",
     "output_type": "stream",
     "text": [
      "Epoch 1/50 - Loss: 946.268\n",
      "              Val_loss: 21.794\n",
      "              Batch_size: 128.000\n"
     ]
    },
    {
     "name": "stderr",
     "output_type": "stream",
     "text": [
      " 30%|███       | 15/50 [00:00<00:01, 21.29it/s]"
     ]
    },
    {
     "name": "stdout",
     "output_type": "stream",
     "text": [
      "Epoch 11/50 - Loss: 0.483\n",
      "              Val_loss: 0.442\n",
      "              Batch_size: 128.000\n"
     ]
    },
    {
     "name": "stderr",
     "output_type": "stream",
     "text": [
      " 48%|████▊     | 24/50 [00:01<00:01, 21.37it/s]"
     ]
    },
    {
     "name": "stdout",
     "output_type": "stream",
     "text": [
      "Epoch 21/50 - Loss: 0.250\n",
      "              Val_loss: 0.260\n",
      "              Batch_size: 128.000\n"
     ]
    },
    {
     "name": "stderr",
     "output_type": "stream",
     "text": [
      " 66%|██████▌   | 33/50 [00:01<00:00, 21.35it/s]"
     ]
    },
    {
     "name": "stdout",
     "output_type": "stream",
     "text": [
      "Epoch 31/50 - Loss: 0.206\n",
      "              Val_loss: 0.198\n",
      "              Batch_size: 128.000\n"
     ]
    },
    {
     "name": "stderr",
     "output_type": "stream",
     "text": [
      " 90%|█████████ | 45/50 [00:02<00:00, 21.33it/s]"
     ]
    },
    {
     "name": "stdout",
     "output_type": "stream",
     "text": [
      "Epoch 41/50 - Loss: 0.150\n",
      "              Val_loss: 0.158\n",
      "              Batch_size: 128.000\n"
     ]
    },
    {
     "name": "stderr",
     "output_type": "stream",
     "text": [
      "                                               \r"
     ]
    },
    {
     "name": "stdout",
     "output_type": "stream",
     "text": [
      "func:'train'  took: 2.3601 sec\n",
      "func:'convert_coord_to_aev'  took: 0.0100 sec\n",
      "['O', 'H', 'H']\n"
     ]
    },
    {
     "name": "stderr",
     "output_type": "stream",
     "text": [
      "  8%|▊         | 4/50 [00:00<00:01, 39.20it/s]"
     ]
    },
    {
     "name": "stdout",
     "output_type": "stream",
     "text": [
      "Epoch 1/50 - Loss: 3067.193\n",
      "              Val_loss: 929.331\n",
      "              Batch_size: 128.000\n"
     ]
    },
    {
     "name": "stderr",
     "output_type": "stream",
     "text": [
      " 32%|███▏      | 16/50 [00:00<00:00, 39.36it/s]"
     ]
    },
    {
     "name": "stdout",
     "output_type": "stream",
     "text": [
      "Epoch 11/50 - Loss: 2.182\n",
      "              Val_loss: 0.658\n",
      "              Batch_size: 128.000\n"
     ]
    },
    {
     "name": "stderr",
     "output_type": "stream",
     "text": [
      " 56%|█████▌    | 28/50 [00:00<00:00, 39.34it/s]"
     ]
    },
    {
     "name": "stdout",
     "output_type": "stream",
     "text": [
      "Epoch 21/50 - Loss: 0.272\n",
      "              Val_loss: 0.238\n",
      "              Batch_size: 128.000\n"
     ]
    },
    {
     "name": "stderr",
     "output_type": "stream",
     "text": [
      " 72%|███████▏  | 36/50 [00:00<00:00, 39.29it/s]"
     ]
    },
    {
     "name": "stdout",
     "output_type": "stream",
     "text": [
      "Epoch 31/50 - Loss: 0.234\n",
      "              Val_loss: 0.212\n",
      "              Batch_size: 128.000\n"
     ]
    },
    {
     "name": "stderr",
     "output_type": "stream",
     "text": [
      " 96%|█████████▌| 48/50 [00:01<00:00, 39.24it/s]"
     ]
    },
    {
     "name": "stdout",
     "output_type": "stream",
     "text": [
      "Epoch 41/50 - Loss: 0.203\n",
      "              Val_loss: 0.193\n",
      "              Batch_size: 128.000\n"
     ]
    },
    {
     "name": "stderr",
     "output_type": "stream",
     "text": [
      "                                               \r"
     ]
    },
    {
     "name": "stdout",
     "output_type": "stream",
     "text": [
      "func:'train'  took: 1.2903 sec\n"
     ]
    },
    {
     "data": {
      "image/png": "[encoded data removed]",
      "text/plain": [
       "<Figure size 432x288 with 1 Axes>"
      ]
     },
     "metadata": {
      "needs_background": "light"
     },
     "output_type": "display_data"
    },
    {
     "data": {
      "image/png": "[encoded data removed]",
      "text/plain": [
       "<Figure size 432x288 with 1 Axes>"
      ]
     },
     "metadata": {
      "needs_background": "light"
     },
     "output_type": "display_data"
    },
    {
     "data": {
      "image/png": "[encoded data removed]",
      "text/plain": [
       "<Figure size 432x288 with 1 Axes>"
      ]
     },
     "metadata": {
      "needs_background": "light"
     },
     "output_type": "display_data"
    }
   ],
   "source": [
    "# The commented code below will get all the molecules for a h5 file in the ANI-1 dataset\n",
    "'''\n",
    "list_files_2 = ['ANI-1_release/ani_gdb_s01.h5']\n",
    "\n",
    "data_set_X = []\n",
    "y_energies = []\n",
    "\n",
    "for i in list_files_2:\n",
    "    hdf5file = i\n",
    "    print(i)\n",
    "    # Construct the data loader class\n",
    "    data = pya.anidataloader(hdf5file)\n",
    "    data_iter = data.__iter__()\n",
    "    for mol in data_iter:  \n",
    "        data_set_X.append({'species': mol['species'], 'coordinates': mol['coordinates']})\n",
    "        y_energies.append(mol['energies'])\n",
    "'''\n",
    "# Intialize the model outside of the for loop which loops through the molecules in the data_set_X\n",
    "ANI_1 = ANI()\n",
    "ANI_trainer_1 = Trainer(ANI_1, \"adam\", 2e-3, 50, 128)\n",
    "\n",
    "# Turn this into a function\n",
    "for i in range(len(data_set_X)):\n",
    "    mol = data_set_X[i]\n",
    "    mol_energies = y_energies[i]\n",
    "    mol_atoms = data_set_X[i]['species']\n",
    "\n",
    "    mol_aevs = convert_coord_to_aev(mol['coordinates'], mol['species'])\n",
    "    print(mol_atoms)\n",
    "\n",
    "    mol_x_train, mol_x_test, mol_y_train, mol_y_test = train_test_split(mol_aevs, mol_energies, test_size=1/3, random_state=42)\n",
    "    mol_x_train, mol_x_val, mol_y_train, mol_y_val = train_test_split(mol_x_train, mol_y_train, test_size=1/3, random_state=42)\n",
    "\n",
    "    ANI_trainer_1.train(mol_atoms, mol_x_train, mol_y_train, mol_x_val, mol_y_val)    \n",
    "    "
   ]
  },
  {
   "cell_type": "code",
   "execution_count": 50,
   "id": "4ac92e3e",
   "metadata": {},
   "outputs": [
    {
     "name": "stdout",
     "output_type": "stream",
     "text": [
      "ANI-1_release/ani_gdb_s02.h5\n"
     ]
    },
    {
     "name": "stderr",
     "output_type": "stream",
     "text": [
      "/global/homes/j/jamshedu/.local/perlmutter/pytorch1.9.0/lib/python3.8/site-packages/ANI1datatools/pyanitools.py:48: H5pyDeprecationWarning: The default file mode will change to 'r' (read-only) in h5py 3.0. To suppress this warning, pass the mode you need to h5py.File(), or set the global default h5.get_config().default_file_mode, or set the environment variable H5PY_DEFAULT_READONLY=1. Available modes are: 'r', 'r+', 'w', 'w-'/'x', 'a'. See the docs for details.\n",
      "  self.store = h5py.File(store_file)\n"
     ]
    }
   ],
   "source": [
    "\n",
    "list_files_2 = ['ANI-1_release/ani_gdb_s02.h5']\n",
    "\n",
    "data_set_X_2 = []\n",
    "y_energies_2 = []\n",
    "\n",
    "for i in list_files_2:\n",
    "    hdf5file = i\n",
    "    print(i)\n",
    "    # Construct the data loader class\n",
    "    data = pya.anidataloader(hdf5file)\n",
    "    data_iter = data.__iter__()\n",
    "    for mol in data_iter:\n",
    "        data_set_X_2.append({'species': mol['species'], 'coordinates': mol['coordinates']})\n",
    "        y_energies_2.append(mol['energies'])\n"
   ]
  },
  {
   "cell_type": "markdown",
   "id": "5d577385-7461-48a6-8348-0e19aeb75fbf",
   "metadata": {},
   "source": [
    "## Using the model from before to train on new molecules from the second h5 file."
   ]
  },
  {
   "cell_type": "code",
   "execution_count": 51,
   "id": "5efa989c",
   "metadata": {},
   "outputs": [
    {
     "name": "stdout",
     "output_type": "stream",
     "text": [
      "func:'convert_coord_to_aev'  took: 0.5261 sec\n",
      "['C', 'C', 'H', 'H', 'H', 'H', 'H', 'H']\n"
     ]
    },
    {
     "name": "stderr",
     "output_type": "stream",
     "text": [
      "  2%|▏         | 1/50 [00:00<00:08,  5.77it/s]"
     ]
    },
    {
     "name": "stdout",
     "output_type": "stream",
     "text": [
      "Epoch 1/50 - Loss: 35038.684\n",
      "              Val_loss: 1848.253\n",
      "              Batch_size: 128.000\n"
     ]
    },
    {
     "name": "stderr",
     "output_type": "stream",
     "text": [
      " 24%|██▍       | 12/50 [00:02<00:06,  5.78it/s]"
     ]
    },
    {
     "name": "stdout",
     "output_type": "stream",
     "text": [
      "Epoch 11/50 - Loss: 10.004\n",
      "              Val_loss: 9.667\n",
      "              Batch_size: 128.000\n"
     ]
    },
    {
     "name": "stderr",
     "output_type": "stream",
     "text": [
      " 44%|████▍     | 22/50 [00:03<00:04,  5.78it/s]"
     ]
    },
    {
     "name": "stdout",
     "output_type": "stream",
     "text": [
      "Epoch 21/50 - Loss: 5.528\n",
      "              Val_loss: 5.679\n",
      "              Batch_size: 128.000\n"
     ]
    },
    {
     "name": "stderr",
     "output_type": "stream",
     "text": [
      " 64%|██████▍   | 32/50 [00:05<00:03,  5.78it/s]"
     ]
    },
    {
     "name": "stdout",
     "output_type": "stream",
     "text": [
      "Epoch 31/50 - Loss: 3.741\n",
      "              Val_loss: 3.667\n",
      "              Batch_size: 128.000\n"
     ]
    },
    {
     "name": "stderr",
     "output_type": "stream",
     "text": [
      " 84%|████████▍ | 42/50 [00:07<00:01,  5.79it/s]"
     ]
    },
    {
     "name": "stdout",
     "output_type": "stream",
     "text": [
      "Epoch 41/50 - Loss: 2.552\n",
      "              Val_loss: 2.571\n",
      "              Batch_size: 128.000\n"
     ]
    },
    {
     "name": "stderr",
     "output_type": "stream",
     "text": [
      "                                               \r"
     ]
    },
    {
     "name": "stdout",
     "output_type": "stream",
     "text": [
      "func:'train'  took: 8.6638 sec\n",
      "func:'convert_coord_to_aev'  took: 0.2835 sec\n",
      "['C', 'N', 'H', 'H', 'H', 'H', 'H']\n"
     ]
    },
    {
     "name": "stderr",
     "output_type": "stream",
     "text": [
      "  2%|▏         | 1/50 [00:00<00:06,  7.52it/s]"
     ]
    },
    {
     "name": "stdout",
     "output_type": "stream",
     "text": [
      "Epoch 1/50 - Loss: 715.144\n",
      "              Val_loss: 25.483\n",
      "              Batch_size: 128.000\n"
     ]
    },
    {
     "name": "stderr",
     "output_type": "stream",
     "text": [
      " 24%|██▍       | 12/50 [00:01<00:05,  7.32it/s]"
     ]
    },
    {
     "name": "stdout",
     "output_type": "stream",
     "text": [
      "Epoch 11/50 - Loss: 3.931\n",
      "              Val_loss: 3.712\n",
      "              Batch_size: 128.000\n"
     ]
    },
    {
     "name": "stderr",
     "output_type": "stream",
     "text": [
      " 44%|████▍     | 22/50 [00:02<00:03,  7.44it/s]"
     ]
    },
    {
     "name": "stdout",
     "output_type": "stream",
     "text": [
      "Epoch 21/50 - Loss: 2.683\n",
      "              Val_loss: 2.542\n",
      "              Batch_size: 128.000\n"
     ]
    },
    {
     "name": "stderr",
     "output_type": "stream",
     "text": [
      " 64%|██████▍   | 32/50 [00:04<00:02,  7.48it/s]"
     ]
    },
    {
     "name": "stdout",
     "output_type": "stream",
     "text": [
      "Epoch 31/50 - Loss: 2.022\n",
      "              Val_loss: 2.022\n",
      "              Batch_size: 128.000\n"
     ]
    },
    {
     "name": "stderr",
     "output_type": "stream",
     "text": [
      " 84%|████████▍ | 42/50 [00:05<00:01,  7.49it/s]"
     ]
    },
    {
     "name": "stdout",
     "output_type": "stream",
     "text": [
      "Epoch 41/50 - Loss: 1.498\n",
      "              Val_loss: 1.510\n",
      "              Batch_size: 128.000\n"
     ]
    },
    {
     "name": "stderr",
     "output_type": "stream",
     "text": [
      "                                               \r"
     ]
    },
    {
     "name": "stdout",
     "output_type": "stream",
     "text": [
      "func:'train'  took: 6.7253 sec\n",
      "func:'convert_coord_to_aev'  took: 0.0021 sec\n",
      "['N', 'N']\n"
     ]
    },
    {
     "name": "stderr",
     "output_type": "stream",
     "text": [
      " 32%|███▏      | 16/50 [00:00<00:00, 157.97it/s]"
     ]
    },
    {
     "name": "stdout",
     "output_type": "stream",
     "text": [
      "Epoch 1/50 - Loss: 11231.500\n",
      "              Val_loss: 11029.986\n",
      "              Batch_size: 128.000\n",
      "Epoch 11/50 - Loss: 1704.602\n",
      "              Val_loss: 903.104\n",
      "              Batch_size: 128.000\n",
      "Epoch 21/50 - Loss: 12.774\n",
      "              Val_loss: 60.938\n",
      "              Batch_size: 128.000\n"
     ]
    },
    {
     "name": "stderr",
     "output_type": "stream",
     "text": [
      " 64%|██████▍   | 32/50 [00:00<00:00, 156.99it/s]"
     ]
    },
    {
     "name": "stdout",
     "output_type": "stream",
     "text": [
      "Epoch 31/50 - Loss: 19.117\n",
      "              Val_loss: 9.317\n",
      "              Batch_size: 128.000\n"
     ]
    },
    {
     "name": "stderr",
     "output_type": "stream",
     "text": [
      "                                                "
     ]
    },
    {
     "name": "stdout",
     "output_type": "stream",
     "text": [
      "Epoch 41/50 - Loss: 0.722\n",
      "              Val_loss: 1.444\n",
      "              Batch_size: 128.000\n",
      "func:'train'  took: 0.3342 sec\n"
     ]
    },
    {
     "name": "stderr",
     "output_type": "stream",
     "text": [
      "\r"
     ]
    },
    {
     "name": "stdout",
     "output_type": "stream",
     "text": [
      "func:'convert_coord_to_aev'  took: 0.0655 sec\n",
      "['O', 'N', 'H', 'H', 'H']\n"
     ]
    },
    {
     "name": "stderr",
     "output_type": "stream",
     "text": [
      "  4%|▍         | 2/50 [00:00<00:04, 11.78it/s]"
     ]
    },
    {
     "name": "stdout",
     "output_type": "stream",
     "text": [
      "Epoch 1/50 - Loss: 396.844\n",
      "              Val_loss: 163.195\n",
      "              Batch_size: 128.000\n"
     ]
    },
    {
     "name": "stderr",
     "output_type": "stream",
     "text": [
      " 24%|██▍       | 12/50 [00:00<00:02, 14.30it/s]"
     ]
    },
    {
     "name": "stdout",
     "output_type": "stream",
     "text": [
      "Epoch 11/50 - Loss: 1.134\n",
      "              Val_loss: 1.113\n",
      "              Batch_size: 128.000\n"
     ]
    },
    {
     "name": "stderr",
     "output_type": "stream",
     "text": [
      " 44%|████▍     | 22/50 [00:01<00:01, 14.63it/s]"
     ]
    },
    {
     "name": "stdout",
     "output_type": "stream",
     "text": [
      "Epoch 21/50 - Loss: 0.672\n",
      "              Val_loss: 0.752\n",
      "              Batch_size: 128.000\n"
     ]
    },
    {
     "name": "stderr",
     "output_type": "stream",
     "text": [
      " 64%|██████▍   | 32/50 [00:02<00:01, 14.73it/s]"
     ]
    },
    {
     "name": "stdout",
     "output_type": "stream",
     "text": [
      "Epoch 31/50 - Loss: 0.514\n",
      "              Val_loss: 0.613\n",
      "              Batch_size: 128.000\n"
     ]
    },
    {
     "name": "stderr",
     "output_type": "stream",
     "text": [
      " 84%|████████▍ | 42/50 [00:02<00:00, 14.73it/s]"
     ]
    },
    {
     "name": "stdout",
     "output_type": "stream",
     "text": [
      "Epoch 41/50 - Loss: 0.411\n",
      "              Val_loss: 0.512\n",
      "              Batch_size: 128.000\n"
     ]
    },
    {
     "name": "stderr",
     "output_type": "stream",
     "text": [
      "                                               \r"
     ]
    },
    {
     "name": "stdout",
     "output_type": "stream",
     "text": [
      "func:'train'  took: 3.5217 sec\n",
      "func:'convert_coord_to_aev'  took: 0.0084 sec\n",
      "['O', 'N', 'H']\n"
     ]
    },
    {
     "name": "stderr",
     "output_type": "stream",
     "text": [
      " 12%|█▏        | 6/50 [00:00<00:00, 53.86it/s]"
     ]
    },
    {
     "name": "stdout",
     "output_type": "stream",
     "text": [
      "Epoch 1/50 - Loss: 2656.319\n",
      "              Val_loss: 897.315\n",
      "              Batch_size: 128.000\n",
      "Epoch 11/50 - Loss: 9.880\n",
      "              Val_loss: 2.302\n",
      "              Batch_size: 128.000\n"
     ]
    },
    {
     "name": "stderr",
     "output_type": "stream",
     "text": [
      " 36%|███▌      | 18/50 [00:00<00:00, 54.26it/s]"
     ]
    },
    {
     "name": "stdout",
     "output_type": "stream",
     "text": [
      "Epoch 21/50 - Loss: 1.238\n",
      "              Val_loss: 1.421\n",
      "              Batch_size: 128.000\n"
     ]
    },
    {
     "name": "stderr",
     "output_type": "stream",
     "text": [
      " 60%|██████    | 30/50 [00:00<00:00, 54.33it/s]"
     ]
    },
    {
     "name": "stdout",
     "output_type": "stream",
     "text": [
      "Epoch 31/50 - Loss: 0.943\n",
      "              Val_loss: 1.105\n",
      "              Batch_size: 128.000\n"
     ]
    },
    {
     "name": "stderr",
     "output_type": "stream",
     "text": [
      " 72%|███████▏  | 36/50 [00:00<00:00, 54.22it/s]"
     ]
    },
    {
     "name": "stdout",
     "output_type": "stream",
     "text": [
      "Epoch 41/50 - Loss: 0.707\n",
      "              Val_loss: 0.898\n",
      "              Batch_size: 128.000\n"
     ]
    },
    {
     "name": "stderr",
     "output_type": "stream",
     "text": [
      "                                               "
     ]
    },
    {
     "name": "stdout",
     "output_type": "stream",
     "text": [
      "func:'train'  took: 0.9387 sec\n"
     ]
    },
    {
     "name": "stderr",
     "output_type": "stream",
     "text": [
      "\r"
     ]
    },
    {
     "name": "stdout",
     "output_type": "stream",
     "text": [
      "func:'convert_coord_to_aev'  took: 0.1514 sec\n",
      "['C', 'O', 'H', 'H', 'H', 'H']\n"
     ]
    },
    {
     "name": "stderr",
     "output_type": "stream",
     "text": [
      "  2%|▏         | 1/50 [00:00<00:05,  9.76it/s]"
     ]
    },
    {
     "name": "stdout",
     "output_type": "stream",
     "text": [
      "Epoch 1/50 - Loss: 718.881\n",
      "              Val_loss: 250.499\n",
      "              Batch_size: 128.000\n"
     ]
    },
    {
     "name": "stderr",
     "output_type": "stream",
     "text": [
      " 26%|██▌       | 13/50 [00:01<00:03, 10.07it/s]"
     ]
    },
    {
     "name": "stdout",
     "output_type": "stream",
     "text": [
      "Epoch 11/50 - Loss: 3.547\n",
      "              Val_loss: 3.576\n",
      "              Batch_size: 128.000\n"
     ]
    },
    {
     "name": "stderr",
     "output_type": "stream",
     "text": [
      " 46%|████▌     | 23/50 [00:02<00:02, 10.10it/s]"
     ]
    },
    {
     "name": "stdout",
     "output_type": "stream",
     "text": [
      "Epoch 21/50 - Loss: 2.372\n",
      "              Val_loss: 2.381\n",
      "              Batch_size: 128.000\n"
     ]
    },
    {
     "name": "stderr",
     "output_type": "stream",
     "text": [
      " 66%|██████▌   | 33/50 [00:03<00:01, 10.10it/s]"
     ]
    },
    {
     "name": "stdout",
     "output_type": "stream",
     "text": [
      "Epoch 31/50 - Loss: 1.684\n",
      "              Val_loss: 1.781\n",
      "              Batch_size: 128.000\n"
     ]
    },
    {
     "name": "stderr",
     "output_type": "stream",
     "text": [
      " 86%|████████▌ | 43/50 [00:04<00:00, 10.12it/s]"
     ]
    },
    {
     "name": "stdout",
     "output_type": "stream",
     "text": [
      "Epoch 41/50 - Loss: 1.425\n",
      "              Val_loss: 1.418\n",
      "              Batch_size: 128.000\n"
     ]
    },
    {
     "name": "stderr",
     "output_type": "stream",
     "text": [
      "                                               \r"
     ]
    },
    {
     "name": "stdout",
     "output_type": "stream",
     "text": [
      "func:'train'  took: 4.9688 sec\n",
      "func:'convert_coord_to_aev'  took: 0.1454 sec\n",
      "['C', 'C', 'H', 'H', 'H', 'H']\n"
     ]
    },
    {
     "name": "stderr",
     "output_type": "stream",
     "text": [
      "  6%|▌         | 3/50 [00:00<00:04, 10.10it/s]"
     ]
    },
    {
     "name": "stdout",
     "output_type": "stream",
     "text": [
      "Epoch 1/50 - Loss: 1272.572\n",
      "              Val_loss: 186.765\n",
      "              Batch_size: 128.000\n"
     ]
    },
    {
     "name": "stderr",
     "output_type": "stream",
     "text": [
      " 26%|██▌       | 13/50 [00:01<00:03, 10.14it/s]"
     ]
    },
    {
     "name": "stdout",
     "output_type": "stream",
     "text": [
      "Epoch 11/50 - Loss: 0.571\n",
      "              Val_loss: 0.591\n",
      "              Batch_size: 128.000\n"
     ]
    },
    {
     "name": "stderr",
     "output_type": "stream",
     "text": [
      " 46%|████▌     | 23/50 [00:02<00:02, 10.17it/s]"
     ]
    },
    {
     "name": "stdout",
     "output_type": "stream",
     "text": [
      "Epoch 21/50 - Loss: 0.460\n",
      "              Val_loss: 0.461\n",
      "              Batch_size: 128.000\n"
     ]
    },
    {
     "name": "stderr",
     "output_type": "stream",
     "text": [
      " 66%|██████▌   | 33/50 [00:03<00:01, 10.18it/s]"
     ]
    },
    {
     "name": "stdout",
     "output_type": "stream",
     "text": [
      "Epoch 31/50 - Loss: 0.366\n",
      "              Val_loss: 0.364\n",
      "              Batch_size: 128.000\n"
     ]
    },
    {
     "name": "stderr",
     "output_type": "stream",
     "text": [
      " 86%|████████▌ | 43/50 [00:04<00:00, 10.18it/s]"
     ]
    },
    {
     "name": "stdout",
     "output_type": "stream",
     "text": [
      "Epoch 41/50 - Loss: 0.301\n",
      "              Val_loss: 0.303\n",
      "              Batch_size: 128.000\n"
     ]
    },
    {
     "name": "stderr",
     "output_type": "stream",
     "text": [
      "                                               \r"
     ]
    },
    {
     "name": "stdout",
     "output_type": "stream",
     "text": [
      "func:'train'  took: 4.9335 sec\n",
      "func:'convert_coord_to_aev'  took: 0.0258 sec\n",
      "['C', 'O', 'H', 'H']\n"
     ]
    },
    {
     "name": "stderr",
     "output_type": "stream",
     "text": [
      "  6%|▌         | 3/50 [00:00<00:02, 23.37it/s]"
     ]
    },
    {
     "name": "stdout",
     "output_type": "stream",
     "text": [
      "Epoch 1/50 - Loss: 5606.934\n",
      "              Val_loss: 1552.987\n",
      "              Batch_size: 128.000\n"
     ]
    },
    {
     "name": "stderr",
     "output_type": "stream",
     "text": [
      " 30%|███       | 15/50 [00:00<00:01, 24.18it/s]"
     ]
    },
    {
     "name": "stdout",
     "output_type": "stream",
     "text": [
      "Epoch 11/50 - Loss: 1.019\n",
      "              Val_loss: 1.126\n",
      "              Batch_size: 128.000\n"
     ]
    },
    {
     "name": "stderr",
     "output_type": "stream",
     "text": [
      " 48%|████▊     | 24/50 [00:00<00:01, 24.26it/s]"
     ]
    },
    {
     "name": "stdout",
     "output_type": "stream",
     "text": [
      "Epoch 21/50 - Loss: 0.948\n",
      "              Val_loss: 1.019\n",
      "              Batch_size: 128.000\n"
     ]
    },
    {
     "name": "stderr",
     "output_type": "stream",
     "text": [
      " 66%|██████▌   | 33/50 [00:01<00:00, 24.41it/s]"
     ]
    },
    {
     "name": "stdout",
     "output_type": "stream",
     "text": [
      "Epoch 31/50 - Loss: 0.853\n",
      "              Val_loss: 0.927\n",
      "              Batch_size: 128.000\n"
     ]
    },
    {
     "name": "stderr",
     "output_type": "stream",
     "text": [
      " 90%|█████████ | 45/50 [00:01<00:00, 24.53it/s]"
     ]
    },
    {
     "name": "stdout",
     "output_type": "stream",
     "text": [
      "Epoch 41/50 - Loss: 0.865\n",
      "              Val_loss: 0.861\n",
      "              Batch_size: 128.000\n"
     ]
    },
    {
     "name": "stderr",
     "output_type": "stream",
     "text": [
      "                                               \r"
     ]
    },
    {
     "name": "stdout",
     "output_type": "stream",
     "text": [
      "func:'train'  took: 2.0719 sec\n",
      "func:'convert_coord_to_aev'  took: 0.0020 sec\n",
      "['O', 'O']\n"
     ]
    },
    {
     "name": "stderr",
     "output_type": "stream",
     "text": [
      " 32%|███▏      | 16/50 [00:00<00:00, 159.49it/s]"
     ]
    },
    {
     "name": "stdout",
     "output_type": "stream",
     "text": [
      "Epoch 1/50 - Loss: 21250.766\n",
      "              Val_loss: 21065.037\n",
      "              Batch_size: 128.000\n",
      "Epoch 11/50 - Loss: 251.784\n",
      "              Val_loss: 575.068\n",
      "              Batch_size: 128.000\n",
      "Epoch 21/50 - Loss: 477.978\n",
      "              Val_loss: 285.199\n",
      "              Batch_size: 128.000\n",
      "Epoch 31/50 - Loss: 2.165\n",
      "              Val_loss: 13.142\n",
      "              Batch_size: 128.000\n"
     ]
    },
    {
     "name": "stderr",
     "output_type": "stream",
     "text": [
      "                                                \r"
     ]
    },
    {
     "name": "stdout",
     "output_type": "stream",
     "text": [
      "Epoch 41/50 - Loss: 7.793\n",
      "              Val_loss: 6.344\n",
      "              Batch_size: 128.000\n",
      "func:'train'  took: 0.3274 sec\n",
      "func:'convert_coord_to_aev'  took: 0.0249 sec\n",
      "['O', 'O', 'H', 'H']\n"
     ]
    },
    {
     "name": "stderr",
     "output_type": "stream",
     "text": [
      "  0%|          | 0/50 [00:00<?, ?it/s]"
     ]
    },
    {
     "name": "stdout",
     "output_type": "stream",
     "text": [
      "Epoch 1/50 - Loss: 1379.710\n",
      "              Val_loss: 1290.150\n",
      "              Batch_size: 128.000\n"
     ]
    },
    {
     "name": "stderr",
     "output_type": "stream",
     "text": [
      " 30%|███       | 15/50 [00:00<00:01, 25.08it/s]"
     ]
    },
    {
     "name": "stdout",
     "output_type": "stream",
     "text": [
      "Epoch 11/50 - Loss: 2.747\n",
      "              Val_loss: 10.126\n",
      "              Batch_size: 128.000\n"
     ]
    },
    {
     "name": "stderr",
     "output_type": "stream",
     "text": [
      " 48%|████▊     | 24/50 [00:00<00:01, 25.10it/s]"
     ]
    },
    {
     "name": "stdout",
     "output_type": "stream",
     "text": [
      "Epoch 21/50 - Loss: 1.767\n",
      "              Val_loss: 9.363\n",
      "              Batch_size: 128.000\n"
     ]
    },
    {
     "name": "stderr",
     "output_type": "stream",
     "text": [
      " 72%|███████▏  | 36/50 [00:01<00:00, 25.12it/s]"
     ]
    },
    {
     "name": "stdout",
     "output_type": "stream",
     "text": [
      "Epoch 31/50 - Loss: 1.240\n",
      "              Val_loss: 8.939\n",
      "              Batch_size: 128.000\n"
     ]
    },
    {
     "name": "stderr",
     "output_type": "stream",
     "text": [
      " 90%|█████████ | 45/50 [00:01<00:00, 25.15it/s]"
     ]
    },
    {
     "name": "stdout",
     "output_type": "stream",
     "text": [
      "Epoch 41/50 - Loss: 0.955\n",
      "              Val_loss: 8.642\n",
      "              Batch_size: 128.000\n"
     ]
    },
    {
     "name": "stderr",
     "output_type": "stream",
     "text": [
      "                                               \r"
     ]
    },
    {
     "name": "stdout",
     "output_type": "stream",
     "text": [
      "func:'train'  took: 2.0079 sec\n",
      "func:'convert_coord_to_aev'  took: 0.0250 sec\n",
      "['C', 'C', 'H', 'H']\n"
     ]
    },
    {
     "name": "stderr",
     "output_type": "stream",
     "text": [
      "  6%|▌         | 3/50 [00:00<00:01, 24.47it/s]"
     ]
    },
    {
     "name": "stdout",
     "output_type": "stream",
     "text": [
      "Epoch 1/50 - Loss: 245.409\n",
      "              Val_loss: 175.867\n",
      "              Batch_size: 128.000\n"
     ]
    },
    {
     "name": "stderr",
     "output_type": "stream",
     "text": [
      " 30%|███       | 15/50 [00:00<00:01, 24.89it/s]"
     ]
    },
    {
     "name": "stdout",
     "output_type": "stream",
     "text": [
      "Epoch 11/50 - Loss: 0.552\n",
      "              Val_loss: 0.449\n",
      "              Batch_size: 128.000\n"
     ]
    },
    {
     "name": "stderr",
     "output_type": "stream",
     "text": [
      " 48%|████▊     | 24/50 [00:00<00:01, 24.95it/s]"
     ]
    },
    {
     "name": "stdout",
     "output_type": "stream",
     "text": [
      "Epoch 21/50 - Loss: 0.375\n",
      "              Val_loss: 0.372\n",
      "              Batch_size: 128.000\n"
     ]
    },
    {
     "name": "stderr",
     "output_type": "stream",
     "text": [
      " 66%|██████▌   | 33/50 [00:01<00:00, 25.02it/s]"
     ]
    },
    {
     "name": "stdout",
     "output_type": "stream",
     "text": [
      "Epoch 31/50 - Loss: 0.345\n",
      "              Val_loss: 0.321\n",
      "              Batch_size: 128.000\n"
     ]
    },
    {
     "name": "stderr",
     "output_type": "stream",
     "text": [
      " 90%|█████████ | 45/50 [00:01<00:00, 24.99it/s]"
     ]
    },
    {
     "name": "stdout",
     "output_type": "stream",
     "text": [
      "Epoch 41/50 - Loss: 0.326\n",
      "              Val_loss: 0.283\n",
      "              Batch_size: 128.000\n"
     ]
    },
    {
     "name": "stderr",
     "output_type": "stream",
     "text": [
      "                                               \r"
     ]
    },
    {
     "name": "stdout",
     "output_type": "stream",
     "text": [
      "func:'train'  took: 2.0217 sec\n",
      "func:'convert_coord_to_aev'  took: 0.1511 sec\n",
      "['N', 'N', 'H', 'H', 'H', 'H']\n"
     ]
    },
    {
     "name": "stderr",
     "output_type": "stream",
     "text": [
      "  4%|▍         | 2/50 [00:00<00:04, 10.11it/s]"
     ]
    },
    {
     "name": "stdout",
     "output_type": "stream",
     "text": [
      "Epoch 1/50 - Loss: 32578.189\n",
      "              Val_loss: 5383.498\n",
      "              Batch_size: 128.000\n"
     ]
    },
    {
     "name": "stderr",
     "output_type": "stream",
     "text": [
      " 24%|██▍       | 12/50 [00:01<00:03, 10.27it/s]"
     ]
    },
    {
     "name": "stdout",
     "output_type": "stream",
     "text": [
      "Epoch 11/50 - Loss: 5.346\n",
      "              Val_loss: 5.120\n",
      "              Batch_size: 128.000\n"
     ]
    },
    {
     "name": "stderr",
     "output_type": "stream",
     "text": [
      " 44%|████▍     | 22/50 [00:02<00:02, 10.27it/s]"
     ]
    },
    {
     "name": "stdout",
     "output_type": "stream",
     "text": [
      "Epoch 21/50 - Loss: 2.328\n",
      "              Val_loss: 2.106\n",
      "              Batch_size: 128.000\n"
     ]
    },
    {
     "name": "stderr",
     "output_type": "stream",
     "text": [
      " 64%|██████▍   | 32/50 [00:03<00:01, 10.29it/s]"
     ]
    },
    {
     "name": "stdout",
     "output_type": "stream",
     "text": [
      "Epoch 31/50 - Loss: 1.438\n",
      "              Val_loss: 1.350\n",
      "              Batch_size: 128.000\n"
     ]
    },
    {
     "name": "stderr",
     "output_type": "stream",
     "text": [
      " 84%|████████▍ | 42/50 [00:04<00:00, 10.31it/s]"
     ]
    },
    {
     "name": "stdout",
     "output_type": "stream",
     "text": [
      "Epoch 41/50 - Loss: 1.165\n",
      "              Val_loss: 1.073\n",
      "              Batch_size: 128.000\n"
     ]
    },
    {
     "name": "stderr",
     "output_type": "stream",
     "text": [
      "                                               \r"
     ]
    },
    {
     "name": "stdout",
     "output_type": "stream",
     "text": [
      "func:'train'  took: 4.8785 sec\n",
      "func:'convert_coord_to_aev'  took: 0.0256 sec\n",
      "['N', 'N', 'H', 'H']\n"
     ]
    },
    {
     "name": "stderr",
     "output_type": "stream",
     "text": [
      "  6%|▌         | 3/50 [00:00<00:01, 24.29it/s]"
     ]
    },
    {
     "name": "stdout",
     "output_type": "stream",
     "text": [
      "Epoch 1/50 - Loss: 2420.609\n",
      "              Val_loss: 348.183\n",
      "              Batch_size: 128.000\n"
     ]
    },
    {
     "name": "stderr",
     "output_type": "stream",
     "text": [
      " 30%|███       | 15/50 [00:00<00:01, 24.96it/s]"
     ]
    },
    {
     "name": "stdout",
     "output_type": "stream",
     "text": [
      "Epoch 11/50 - Loss: 2.292\n",
      "              Val_loss: 2.400\n",
      "              Batch_size: 128.000\n"
     ]
    },
    {
     "name": "stderr",
     "output_type": "stream",
     "text": [
      " 48%|████▊     | 24/50 [00:00<00:01, 24.90it/s]"
     ]
    },
    {
     "name": "stdout",
     "output_type": "stream",
     "text": [
      "Epoch 21/50 - Loss: 1.664\n",
      "              Val_loss: 1.924\n",
      "              Batch_size: 128.000\n"
     ]
    },
    {
     "name": "stderr",
     "output_type": "stream",
     "text": [
      " 72%|███████▏  | 36/50 [00:01<00:00, 25.03it/s]"
     ]
    },
    {
     "name": "stdout",
     "output_type": "stream",
     "text": [
      "Epoch 31/50 - Loss: 1.609\n",
      "              Val_loss: 1.552\n",
      "              Batch_size: 128.000\n"
     ]
    },
    {
     "name": "stderr",
     "output_type": "stream",
     "text": [
      " 90%|█████████ | 45/50 [00:01<00:00, 24.99it/s]"
     ]
    },
    {
     "name": "stdout",
     "output_type": "stream",
     "text": [
      "Epoch 41/50 - Loss: 1.134\n",
      "              Val_loss: 1.275\n",
      "              Batch_size: 128.000\n"
     ]
    },
    {
     "name": "stderr",
     "output_type": "stream",
     "text": [
      "                                               "
     ]
    },
    {
     "name": "stdout",
     "output_type": "stream",
     "text": [
      "func:'train'  took: 2.0213 sec\n"
     ]
    },
    {
     "name": "stderr",
     "output_type": "stream",
     "text": [
      "\r"
     ]
    },
    {
     "data": {
      "image/png": "[encoded data removed]",
      "text/plain": [
       "<Figure size 432x288 with 1 Axes>"
      ]
     },
     "metadata": {
      "needs_background": "light"
     },
     "output_type": "display_data"
    },
    {
     "data": {
      "image/png": "[encoded data removed]",
      "text/plain": [
       "<Figure size 432x288 with 1 Axes>"
      ]
     },
     "metadata": {
      "needs_background": "light"
     },
     "output_type": "display_data"
    },
    {
     "data": {
      "image/png": "[encoded data removed]",
      "text/plain": [
       "<Figure size 432x288 with 1 Axes>"
      ]
     },
     "metadata": {
      "needs_background": "light"
     },
     "output_type": "display_data"
    },
    {
     "data": {
      "image/png": "[encoded data removed]",
      "text/plain": [
       "<Figure size 432x288 with 1 Axes>"
      ]
     },
     "metadata": {
      "needs_background": "light"
     },
     "output_type": "display_data"
    },
    {
     "data": {
      "image/png": "[encoded data removed]",
      "text/plain": [
       "<Figure size 432x288 with 1 Axes>"
      ]
     },
     "metadata": {
      "needs_background": "light"
     },
     "output_type": "display_data"
    },
    {
     "data": {
      "image/png": "[encoded data removed]",
      "text/plain": [
       "<Figure size 432x288 with 1 Axes>"
      ]
     },
     "metadata": {
      "needs_background": "light"
     },
     "output_type": "display_data"
    },
    {
     "data": {
      "image/png": "[encoded data removed]",
      "text/plain": [
       "<Figure size 432x288 with 1 Axes>"
      ]
     },
     "metadata": {
      "needs_background": "light"
     },
     "output_type": "display_data"
    },
    {
     "data": {
      "image/png": "[encoded data removed]",
      "text/plain": [
       "<Figure size 432x288 with 1 Axes>"
      ]
     },
     "metadata": {
      "needs_background": "light"
     },
     "output_type": "display_data"
    },
    {
     "data": {
      "image/png": "[encoded data removed]",
      "text/plain": [
       "<Figure size 432x288 with 1 Axes>"
      ]
     },
     "metadata": {
      "needs_background": "light"
     },
     "output_type": "display_data"
    },
    {
     "data": {
      "image/png": "[encoded data removed]",
      "text/plain": [
       "<Figure size 432x288 with 1 Axes>"
      ]
     },
     "metadata": {
      "needs_background": "light"
     },
     "output_type": "display_data"
    },
    {
     "data": {
      "image/png": "[encoded data removed]",
      "text/plain": [
       "<Figure size 432x288 with 1 Axes>"
      ]
     },
     "metadata": {
      "needs_background": "light"
     },
     "output_type": "display_data"
    },
    {
     "data": {
      "image/png": "[encoded data removed]",
      "text/plain": [
       "<Figure size 432x288 with 1 Axes>"
      ]
     },
     "metadata": {
      "needs_background": "light"
     },
     "output_type": "display_data"
    },
    {
     "data": {
      "image/png": "[encoded data removed]",
      "text/plain": [
       "<Figure size 432x288 with 1 Axes>"
      ]
     },
     "metadata": {
      "needs_background": "light"
     },
     "output_type": "display_data"
    }
   ],
   "source": [
    "for i in range(len(data_set_X_2)):\n",
    "    mol = data_set_X_2[i]\n",
    "    mol_energies = y_energies_2[i]\n",
    "    mol_atoms = data_set_X_2[i]['species']\n",
    "\n",
    "    mol_aevs = convert_coord_to_aev(mol['coordinates'], mol['species'])\n",
    "    print(mol_atoms)\n",
    "\n",
    "    mol_x_train, mol_x_test, mol_y_train, mol_y_test = train_test_split(mol_aevs, mol_energies, test_size=1/3, random_state=42)\n",
    "    mol_x_train, mol_x_val, mol_y_train, mol_y_val = train_test_split(mol_x_train, mol_y_train, test_size=1/3, random_state=42)\n",
    "\n",
    "    ANI_trainer_1.train(mol_atoms, mol_x_train, mol_y_train, mol_x_val, mol_y_val)    "
   ]
  },
  {
   "cell_type": "code",
   "execution_count": 52,
   "id": "d66684d1-d496-4fad-9937-815b9478162d",
   "metadata": {},
   "outputs": [
    {
     "name": "stdout",
     "output_type": "stream",
     "text": [
      "ANI-1_release/ani_gdb_s03.h5\n"
     ]
    },
    {
     "name": "stderr",
     "output_type": "stream",
     "text": [
      "/global/homes/j/jamshedu/.local/perlmutter/pytorch1.9.0/lib/python3.8/site-packages/ANI1datatools/pyanitools.py:48: H5pyDeprecationWarning: The default file mode will change to 'r' (read-only) in h5py 3.0. To suppress this warning, pass the mode you need to h5py.File(), or set the global default h5.get_config().default_file_mode, or set the environment variable H5PY_DEFAULT_READONLY=1. Available modes are: 'r', 'r+', 'w', 'w-'/'x', 'a'. See the docs for details.\n",
      "  self.store = h5py.File(store_file)\n"
     ]
    }
   ],
   "source": [
    "\n",
    "list_files_3 = ['ANI-1_release/ani_gdb_s03.h5']\n",
    "\n",
    "data_set_X_3 = []\n",
    "y_energies_3 = []\n",
    "\n",
    "for i in list_files_3:\n",
    "    hdf5file = i\n",
    "    print(i)\n",
    "    # Construct the data loader class\n",
    "    data = pya.anidataloader(hdf5file)\n",
    "    data_iter = data.__iter__()\n",
    "    for mol in data_iter:\n",
    "        data_set_X_3.append({'species': mol['species'], 'coordinates': mol['coordinates']})\n",
    "        y_energies_3.append(mol['energies'])"
   ]
  },
  {
   "cell_type": "markdown",
   "id": "9fa8237d-3183-4e74-8b1a-33ad25c4d0c3",
   "metadata": {},
   "source": [
    "## Train on the 3rd h5 file now."
   ]
  },
  {
   "cell_type": "code",
   "execution_count": 54,
   "id": "f0cbc023-fe60-4a1b-bd92-9ecc31c436c4",
   "metadata": {},
   "outputs": [
    {
     "name": "stdout",
     "output_type": "stream",
     "text": [
      "func:'convert_coord_to_aev'  took: 1.7277 sec\n",
      "['C', 'C', 'C', 'H', 'H', 'H', 'H', 'H', 'H', 'H', 'H']\n"
     ]
    },
    {
     "name": "stderr",
     "output_type": "stream",
     "text": [
      "  2%|▏         | 1/50 [00:00<00:15,  3.20it/s]"
     ]
    },
    {
     "name": "stdout",
     "output_type": "stream",
     "text": [
      "Epoch 1/50 - Loss: 703.424\n",
      "              Val_loss: 4.004\n",
      "              Batch_size: 128.000\n"
     ]
    },
    {
     "name": "stderr",
     "output_type": "stream",
     "text": [
      " 22%|██▏       | 11/50 [00:03<00:12,  3.22it/s]"
     ]
    },
    {
     "name": "stdout",
     "output_type": "stream",
     "text": [
      "Epoch 11/50 - Loss: 0.410\n",
      "              Val_loss: 0.392\n",
      "              Batch_size: 128.000\n"
     ]
    },
    {
     "name": "stderr",
     "output_type": "stream",
     "text": [
      " 42%|████▏     | 21/50 [00:06<00:09,  3.22it/s]"
     ]
    },
    {
     "name": "stdout",
     "output_type": "stream",
     "text": [
      "Epoch 21/50 - Loss: 0.300\n",
      "              Val_loss: 0.291\n",
      "              Batch_size: 128.000\n"
     ]
    },
    {
     "name": "stderr",
     "output_type": "stream",
     "text": [
      " 62%|██████▏   | 31/50 [00:09<00:05,  3.21it/s]"
     ]
    },
    {
     "name": "stdout",
     "output_type": "stream",
     "text": [
      "Epoch 31/50 - Loss: 0.245\n",
      "              Val_loss: 0.230\n",
      "              Batch_size: 128.000\n"
     ]
    },
    {
     "name": "stderr",
     "output_type": "stream",
     "text": [
      " 82%|████████▏ | 41/50 [00:12<00:02,  3.21it/s]"
     ]
    },
    {
     "name": "stdout",
     "output_type": "stream",
     "text": [
      "Epoch 41/50 - Loss: 0.175\n",
      "              Val_loss: 0.166\n",
      "              Batch_size: 128.000\n"
     ]
    },
    {
     "name": "stderr",
     "output_type": "stream",
     "text": [
      "                                               \r"
     ]
    },
    {
     "name": "stdout",
     "output_type": "stream",
     "text": [
      "func:'train'  took: 15.5658 sec\n",
      "func:'convert_coord_to_aev'  took: 1.1830 sec\n",
      "['C', 'C', 'N', 'H', 'H', 'H', 'H', 'H', 'H', 'H']\n"
     ]
    },
    {
     "name": "stderr",
     "output_type": "stream",
     "text": [
      "  2%|▏         | 1/50 [00:00<00:12,  3.79it/s]"
     ]
    },
    {
     "name": "stdout",
     "output_type": "stream",
     "text": [
      "Epoch 1/50 - Loss: 8.690\n",
      "              Val_loss: 0.652\n",
      "              Batch_size: 128.000\n"
     ]
    },
    {
     "name": "stderr",
     "output_type": "stream",
     "text": [
      " 22%|██▏       | 11/50 [00:02<00:10,  3.78it/s]"
     ]
    },
    {
     "name": "stdout",
     "output_type": "stream",
     "text": [
      "Epoch 11/50 - Loss: 0.193\n",
      "              Val_loss: 0.199\n",
      "              Batch_size: 128.000\n"
     ]
    },
    {
     "name": "stderr",
     "output_type": "stream",
     "text": [
      " 42%|████▏     | 21/50 [00:05<00:07,  3.79it/s]"
     ]
    },
    {
     "name": "stdout",
     "output_type": "stream",
     "text": [
      "Epoch 21/50 - Loss: 0.152\n",
      "              Val_loss: 0.118\n",
      "              Batch_size: 128.000\n"
     ]
    },
    {
     "name": "stderr",
     "output_type": "stream",
     "text": [
      " 62%|██████▏   | 31/50 [00:08<00:04,  3.81it/s]"
     ]
    },
    {
     "name": "stdout",
     "output_type": "stream",
     "text": [
      "Epoch 31/50 - Loss: 0.101\n",
      "              Val_loss: 0.108\n",
      "              Batch_size: 128.000\n"
     ]
    },
    {
     "name": "stderr",
     "output_type": "stream",
     "text": [
      " 82%|████████▏ | 41/50 [00:10<00:02,  3.80it/s]"
     ]
    },
    {
     "name": "stdout",
     "output_type": "stream",
     "text": [
      "Epoch 41/50 - Loss: 0.092\n",
      "              Val_loss: 0.116\n",
      "              Batch_size: 128.000\n"
     ]
    },
    {
     "name": "stderr",
     "output_type": "stream",
     "text": [
      "                                               \r"
     ]
    },
    {
     "name": "stdout",
     "output_type": "stream",
     "text": [
      "func:'train'  took: 13.2087 sec\n",
      "func:'convert_coord_to_aev'  took: 0.1500 sec\n",
      "['N', 'C', 'O', 'H', 'H', 'H']\n"
     ]
    },
    {
     "name": "stderr",
     "output_type": "stream",
     "text": [
      "  4%|▍         | 2/50 [00:00<00:04, 10.11it/s]"
     ]
    },
    {
     "name": "stdout",
     "output_type": "stream",
     "text": [
      "Epoch 1/50 - Loss: 18.375\n",
      "              Val_loss: 4.312\n",
      "              Batch_size: 128.000\n"
     ]
    },
    {
     "name": "stderr",
     "output_type": "stream",
     "text": [
      " 24%|██▍       | 12/50 [00:01<00:03, 10.25it/s]"
     ]
    },
    {
     "name": "stdout",
     "output_type": "stream",
     "text": [
      "Epoch 11/50 - Loss: 0.172\n",
      "              Val_loss: 0.150\n",
      "              Batch_size: 128.000\n"
     ]
    },
    {
     "name": "stderr",
     "output_type": "stream",
     "text": [
      " 44%|████▍     | 22/50 [00:02<00:02, 10.21it/s]"
     ]
    },
    {
     "name": "stdout",
     "output_type": "stream",
     "text": [
      "Epoch 21/50 - Loss: 0.100\n",
      "              Val_loss: 0.092\n",
      "              Batch_size: 128.000\n"
     ]
    },
    {
     "name": "stderr",
     "output_type": "stream",
     "text": [
      " 64%|██████▍   | 32/50 [00:03<00:01, 10.24it/s]"
     ]
    },
    {
     "name": "stdout",
     "output_type": "stream",
     "text": [
      "Epoch 31/50 - Loss: 0.087\n",
      "              Val_loss: 0.067\n",
      "              Batch_size: 128.000\n"
     ]
    },
    {
     "name": "stderr",
     "output_type": "stream",
     "text": [
      " 84%|████████▍ | 42/50 [00:04<00:00, 10.25it/s]"
     ]
    },
    {
     "name": "stdout",
     "output_type": "stream",
     "text": [
      "Epoch 41/50 - Loss: 0.059\n",
      "              Val_loss: 0.053\n",
      "              Batch_size: 128.000\n"
     ]
    },
    {
     "name": "stderr",
     "output_type": "stream",
     "text": [
      "                                               \r"
     ]
    },
    {
     "name": "stdout",
     "output_type": "stream",
     "text": [
      "func:'train'  took: 4.8980 sec\n",
      "func:'convert_coord_to_aev'  took: 0.0696 sec\n",
      "['O', 'C', 'O', 'H', 'H']\n"
     ]
    },
    {
     "name": "stderr",
     "output_type": "stream",
     "text": [
      "  0%|          | 0/50 [00:00<?, ?it/s]"
     ]
    },
    {
     "name": "stdout",
     "output_type": "stream",
     "text": [
      "Epoch 1/50 - Loss: 118.888\n",
      "              Val_loss: 17.713\n",
      "              Batch_size: 128.000\n"
     ]
    },
    {
     "name": "stderr",
     "output_type": "stream",
     "text": [
      " 28%|██▊       | 14/50 [00:00<00:02, 15.10it/s]"
     ]
    },
    {
     "name": "stdout",
     "output_type": "stream",
     "text": [
      "Epoch 11/50 - Loss: 0.124\n",
      "              Val_loss: 0.309\n",
      "              Batch_size: 128.000\n"
     ]
    },
    {
     "name": "stderr",
     "output_type": "stream",
     "text": [
      " 48%|████▊     | 24/50 [00:01<00:01, 15.11it/s]"
     ]
    },
    {
     "name": "stdout",
     "output_type": "stream",
     "text": [
      "Epoch 21/50 - Loss: 0.091\n",
      "              Val_loss: 0.281\n",
      "              Batch_size: 128.000\n"
     ]
    },
    {
     "name": "stderr",
     "output_type": "stream",
     "text": [
      " 68%|██████▊   | 34/50 [00:02<00:01, 15.13it/s]"
     ]
    },
    {
     "name": "stdout",
     "output_type": "stream",
     "text": [
      "Epoch 31/50 - Loss: 0.078\n",
      "              Val_loss: 0.279\n",
      "              Batch_size: 128.000\n"
     ]
    },
    {
     "name": "stderr",
     "output_type": "stream",
     "text": [
      " 88%|████████▊ | 44/50 [00:02<00:00, 15.12it/s]"
     ]
    },
    {
     "name": "stdout",
     "output_type": "stream",
     "text": [
      "Epoch 41/50 - Loss: 0.063\n",
      "              Val_loss: 0.278\n",
      "              Batch_size: 128.000\n"
     ]
    },
    {
     "name": "stderr",
     "output_type": "stream",
     "text": [
      "                                               \r"
     ]
    },
    {
     "name": "stdout",
     "output_type": "stream",
     "text": [
      "func:'train'  took: 3.3288 sec\n",
      "func:'convert_coord_to_aev'  took: 0.2615 sec\n",
      "['N', 'N', 'C', 'H', 'H', 'H', 'H']\n"
     ]
    },
    {
     "name": "stderr",
     "output_type": "stream",
     "text": [
      "  2%|▏         | 1/50 [00:00<00:06,  7.65it/s]"
     ]
    },
    {
     "name": "stdout",
     "output_type": "stream",
     "text": [
      "Epoch 1/50 - Loss: 208.978\n",
      "              Val_loss: 2.513\n",
      "              Batch_size: 128.000\n"
     ]
    },
    {
     "name": "stderr",
     "output_type": "stream",
     "text": [
      " 24%|██▍       | 12/50 [00:01<00:04,  7.69it/s]"
     ]
    },
    {
     "name": "stdout",
     "output_type": "stream",
     "text": [
      "Epoch 11/50 - Loss: 0.185\n",
      "              Val_loss: 0.175\n",
      "              Batch_size: 128.000\n"
     ]
    },
    {
     "name": "stderr",
     "output_type": "stream",
     "text": [
      " 44%|████▍     | 22/50 [00:02<00:03,  7.68it/s]"
     ]
    },
    {
     "name": "stdout",
     "output_type": "stream",
     "text": [
      "Epoch 21/50 - Loss: 0.086\n",
      "              Val_loss: 0.098\n",
      "              Batch_size: 128.000\n"
     ]
    },
    {
     "name": "stderr",
     "output_type": "stream",
     "text": [
      " 64%|██████▍   | 32/50 [00:04<00:02,  7.68it/s]"
     ]
    },
    {
     "name": "stdout",
     "output_type": "stream",
     "text": [
      "Epoch 31/50 - Loss: 0.064\n",
      "              Val_loss: 0.078\n",
      "              Batch_size: 128.000\n"
     ]
    },
    {
     "name": "stderr",
     "output_type": "stream",
     "text": [
      " 84%|████████▍ | 42/50 [00:05<00:01,  7.68it/s]"
     ]
    },
    {
     "name": "stdout",
     "output_type": "stream",
     "text": [
      "Epoch 41/50 - Loss: 0.054\n",
      "              Val_loss: 0.068\n",
      "              Batch_size: 128.000\n"
     ]
    },
    {
     "name": "stderr",
     "output_type": "stream",
     "text": [
      "                                               \r"
     ]
    },
    {
     "name": "stdout",
     "output_type": "stream",
     "text": [
      "func:'train'  took: 6.5198 sec\n",
      "func:'convert_coord_to_aev'  took: 0.1449 sec\n",
      "['O', 'N', 'C', 'H', 'H', 'H']\n"
     ]
    },
    {
     "name": "stderr",
     "output_type": "stream",
     "text": [
      "  4%|▍         | 2/50 [00:00<00:04,  9.83it/s]"
     ]
    },
    {
     "name": "stdout",
     "output_type": "stream",
     "text": [
      "Epoch 1/50 - Loss: 12.988\n",
      "              Val_loss: 5.128\n",
      "              Batch_size: 128.000\n"
     ]
    },
    {
     "name": "stderr",
     "output_type": "stream",
     "text": [
      " 24%|██▍       | 12/50 [00:01<00:03, 10.30it/s]"
     ]
    },
    {
     "name": "stdout",
     "output_type": "stream",
     "text": [
      "Epoch 11/50 - Loss: 0.070\n",
      "              Val_loss: 0.058\n",
      "              Batch_size: 128.000\n"
     ]
    },
    {
     "name": "stderr",
     "output_type": "stream",
     "text": [
      " 44%|████▍     | 22/50 [00:02<00:02, 10.31it/s]"
     ]
    },
    {
     "name": "stdout",
     "output_type": "stream",
     "text": [
      "Epoch 21/50 - Loss: 0.041\n",
      "              Val_loss: 0.036\n",
      "              Batch_size: 128.000\n"
     ]
    },
    {
     "name": "stderr",
     "output_type": "stream",
     "text": [
      " 64%|██████▍   | 32/50 [00:03<00:01, 10.33it/s]"
     ]
    },
    {
     "name": "stdout",
     "output_type": "stream",
     "text": [
      "Epoch 31/50 - Loss: 0.036\n",
      "              Val_loss: 0.029\n",
      "              Batch_size: 128.000\n"
     ]
    },
    {
     "name": "stderr",
     "output_type": "stream",
     "text": [
      " 84%|████████▍ | 42/50 [00:04<00:00, 10.34it/s]"
     ]
    },
    {
     "name": "stdout",
     "output_type": "stream",
     "text": [
      "Epoch 41/50 - Loss: 0.030\n",
      "              Val_loss: 0.026\n",
      "              Batch_size: 128.000\n"
     ]
    },
    {
     "name": "stderr",
     "output_type": "stream",
     "text": [
      "                                               \r"
     ]
    },
    {
     "name": "stdout",
     "output_type": "stream",
     "text": [
      "func:'train'  took: 4.8679 sec\n",
      "func:'convert_coord_to_aev'  took: 0.2207 sec\n",
      "['C', 'C', 'C', 'H', 'H', 'H', 'H']\n"
     ]
    },
    {
     "name": "stderr",
     "output_type": "stream",
     "text": [
      "  2%|▏         | 1/50 [00:00<00:06,  7.31it/s]"
     ]
    },
    {
     "name": "stdout",
     "output_type": "stream",
     "text": [
      "Epoch 1/50 - Loss: 224.835\n",
      "              Val_loss: 27.145\n",
      "              Batch_size: 128.000\n"
     ]
    },
    {
     "name": "stderr",
     "output_type": "stream",
     "text": [
      " 24%|██▍       | 12/50 [00:01<00:04,  7.69it/s]"
     ]
    },
    {
     "name": "stdout",
     "output_type": "stream",
     "text": [
      "Epoch 11/50 - Loss: 0.173\n",
      "              Val_loss: 0.184\n",
      "              Batch_size: 128.000\n"
     ]
    },
    {
     "name": "stderr",
     "output_type": "stream",
     "text": [
      " 44%|████▍     | 22/50 [00:02<00:03,  7.71it/s]"
     ]
    },
    {
     "name": "stdout",
     "output_type": "stream",
     "text": [
      "Epoch 21/50 - Loss: 0.133\n",
      "              Val_loss: 0.137\n",
      "              Batch_size: 128.000\n"
     ]
    },
    {
     "name": "stderr",
     "output_type": "stream",
     "text": [
      " 64%|██████▍   | 32/50 [00:04<00:02,  7.65it/s]"
     ]
    },
    {
     "name": "stdout",
     "output_type": "stream",
     "text": [
      "Epoch 31/50 - Loss: 0.117\n",
      "              Val_loss: 0.121\n",
      "              Batch_size: 128.000\n"
     ]
    },
    {
     "name": "stderr",
     "output_type": "stream",
     "text": [
      " 84%|████████▍ | 42/50 [00:05<00:01,  7.66it/s]"
     ]
    },
    {
     "name": "stdout",
     "output_type": "stream",
     "text": [
      "Epoch 41/50 - Loss: 0.101\n",
      "              Val_loss: 0.105\n",
      "              Batch_size: 128.000\n"
     ]
    },
    {
     "name": "stderr",
     "output_type": "stream",
     "text": [
      "                                               \r"
     ]
    },
    {
     "name": "stdout",
     "output_type": "stream",
     "text": [
      "func:'train'  took: 6.5369 sec\n",
      "func:'convert_coord_to_aev'  took: 0.8783 sec\n",
      "['C', 'C', 'C', 'H', 'H', 'H', 'H', 'H', 'H']\n"
     ]
    },
    {
     "name": "stderr",
     "output_type": "stream",
     "text": [
      "  2%|▏         | 1/50 [00:00<00:10,  4.67it/s]"
     ]
    },
    {
     "name": "stdout",
     "output_type": "stream",
     "text": [
      "Epoch 1/50 - Loss: 258.845\n",
      "              Val_loss: 7.706\n",
      "              Batch_size: 128.000\n"
     ]
    },
    {
     "name": "stderr",
     "output_type": "stream",
     "text": [
      " 22%|██▏       | 11/50 [00:02<00:08,  4.72it/s]"
     ]
    },
    {
     "name": "stdout",
     "output_type": "stream",
     "text": [
      "Epoch 11/50 - Loss: 0.102\n",
      "              Val_loss: 0.094\n",
      "              Batch_size: 128.000\n"
     ]
    },
    {
     "name": "stderr",
     "output_type": "stream",
     "text": [
      " 42%|████▏     | 21/50 [00:04<00:06,  4.73it/s]"
     ]
    },
    {
     "name": "stdout",
     "output_type": "stream",
     "text": [
      "Epoch 21/50 - Loss: 0.073\n",
      "              Val_loss: 0.066\n",
      "              Batch_size: 128.000\n"
     ]
    },
    {
     "name": "stderr",
     "output_type": "stream",
     "text": [
      " 62%|██████▏   | 31/50 [00:06<00:04,  4.74it/s]"
     ]
    },
    {
     "name": "stdout",
     "output_type": "stream",
     "text": [
      "Epoch 31/50 - Loss: 0.049\n",
      "              Val_loss: 0.049\n",
      "              Batch_size: 128.000\n"
     ]
    },
    {
     "name": "stderr",
     "output_type": "stream",
     "text": [
      " 82%|████████▏ | 41/50 [00:08<00:01,  4.75it/s]"
     ]
    },
    {
     "name": "stdout",
     "output_type": "stream",
     "text": [
      "Epoch 41/50 - Loss: 0.038\n",
      "              Val_loss: 0.035\n",
      "              Batch_size: 128.000\n"
     ]
    },
    {
     "name": "stderr",
     "output_type": "stream",
     "text": [
      "                                               \r"
     ]
    },
    {
     "name": "stdout",
     "output_type": "stream",
     "text": [
      "func:'train'  took: 10.5878 sec\n",
      "func:'convert_coord_to_aev'  took: 0.5023 sec\n",
      "['C', 'C', 'N', 'H', 'H', 'H', 'H', 'H']\n"
     ]
    },
    {
     "name": "stderr",
     "output_type": "stream",
     "text": [
      "  2%|▏         | 1/50 [00:00<00:08,  5.77it/s]"
     ]
    },
    {
     "name": "stdout",
     "output_type": "stream",
     "text": [
      "Epoch 1/50 - Loss: 20.124\n",
      "              Val_loss: 4.955\n",
      "              Batch_size: 128.000\n"
     ]
    },
    {
     "name": "stderr",
     "output_type": "stream",
     "text": [
      " 24%|██▍       | 12/50 [00:02<00:06,  5.91it/s]"
     ]
    },
    {
     "name": "stdout",
     "output_type": "stream",
     "text": [
      "Epoch 11/50 - Loss: 0.068\n",
      "              Val_loss: 0.063\n",
      "              Batch_size: 128.000\n"
     ]
    },
    {
     "name": "stderr",
     "output_type": "stream",
     "text": [
      " 44%|████▍     | 22/50 [00:03<00:04,  5.91it/s]"
     ]
    },
    {
     "name": "stdout",
     "output_type": "stream",
     "text": [
      "Epoch 21/50 - Loss: 0.047\n",
      "              Val_loss: 0.044\n",
      "              Batch_size: 128.000\n"
     ]
    },
    {
     "name": "stderr",
     "output_type": "stream",
     "text": [
      " 64%|██████▍   | 32/50 [00:05<00:03,  5.91it/s]"
     ]
    },
    {
     "name": "stdout",
     "output_type": "stream",
     "text": [
      "Epoch 31/50 - Loss: 0.035\n",
      "              Val_loss: 0.033\n",
      "              Batch_size: 128.000\n"
     ]
    },
    {
     "name": "stderr",
     "output_type": "stream",
     "text": [
      " 84%|████████▍ | 42/50 [00:07<00:01,  5.92it/s]"
     ]
    },
    {
     "name": "stdout",
     "output_type": "stream",
     "text": [
      "Epoch 41/50 - Loss: 0.027\n",
      "              Val_loss: 0.027\n",
      "              Batch_size: 128.000\n"
     ]
    },
    {
     "name": "stderr",
     "output_type": "stream",
     "text": [
      "                                               \r"
     ]
    },
    {
     "name": "stdout",
     "output_type": "stream",
     "text": [
      "func:'train'  took: 8.4974 sec\n",
      "func:'convert_coord_to_aev'  took: 0.2868 sec\n",
      "['C', 'C', 'O', 'H', 'H', 'H', 'H']\n"
     ]
    },
    {
     "name": "stderr",
     "output_type": "stream",
     "text": [
      "  2%|▏         | 1/50 [00:00<00:07,  6.90it/s]"
     ]
    },
    {
     "name": "stdout",
     "output_type": "stream",
     "text": [
      "Epoch 1/50 - Loss: 66.045\n",
      "              Val_loss: 15.248\n",
      "              Batch_size: 128.000\n"
     ]
    },
    {
     "name": "stderr",
     "output_type": "stream",
     "text": [
      " 24%|██▍       | 12/50 [00:01<00:05,  7.55it/s]"
     ]
    },
    {
     "name": "stdout",
     "output_type": "stream",
     "text": [
      "Epoch 11/50 - Loss: 0.087\n",
      "              Val_loss: 0.084\n",
      "              Batch_size: 128.000\n"
     ]
    },
    {
     "name": "stderr",
     "output_type": "stream",
     "text": [
      " 44%|████▍     | 22/50 [00:02<00:03,  7.64it/s]"
     ]
    },
    {
     "name": "stdout",
     "output_type": "stream",
     "text": [
      "Epoch 21/50 - Loss: 0.055\n",
      "              Val_loss: 0.051\n",
      "              Batch_size: 128.000\n"
     ]
    },
    {
     "name": "stderr",
     "output_type": "stream",
     "text": [
      " 64%|██████▍   | 32/50 [00:04<00:02,  7.64it/s]"
     ]
    },
    {
     "name": "stdout",
     "output_type": "stream",
     "text": [
      "Epoch 31/50 - Loss: 0.041\n",
      "              Val_loss: 0.037\n",
      "              Batch_size: 128.000\n"
     ]
    },
    {
     "name": "stderr",
     "output_type": "stream",
     "text": [
      " 84%|████████▍ | 42/50 [00:05<00:01,  7.66it/s]"
     ]
    },
    {
     "name": "stdout",
     "output_type": "stream",
     "text": [
      "Epoch 41/50 - Loss: 0.033\n",
      "              Val_loss: 0.030\n",
      "              Batch_size: 128.000\n"
     ]
    },
    {
     "name": "stderr",
     "output_type": "stream",
     "text": [
      "                                               \r"
     ]
    },
    {
     "name": "stdout",
     "output_type": "stream",
     "text": [
      "func:'train'  took: 6.5879 sec\n",
      "func:'convert_coord_to_aev'  took: 0.0257 sec\n",
      "['O', 'N', 'O', 'H']\n"
     ]
    },
    {
     "name": "stderr",
     "output_type": "stream",
     "text": [
      "  6%|▌         | 3/50 [00:00<00:01, 25.30it/s]"
     ]
    },
    {
     "name": "stdout",
     "output_type": "stream",
     "text": [
      "Epoch 1/50 - Loss: 637.202\n",
      "              Val_loss: 428.703\n",
      "              Batch_size: 128.000\n"
     ]
    },
    {
     "name": "stderr",
     "output_type": "stream",
     "text": [
      " 30%|███       | 15/50 [00:00<00:01, 25.43it/s]"
     ]
    },
    {
     "name": "stdout",
     "output_type": "stream",
     "text": [
      "Epoch 11/50 - Loss: 0.326\n",
      "              Val_loss: 0.295\n",
      "              Batch_size: 128.000\n"
     ]
    },
    {
     "name": "stderr",
     "output_type": "stream",
     "text": [
      " 48%|████▊     | 24/50 [00:00<00:01, 25.33it/s]"
     ]
    },
    {
     "name": "stdout",
     "output_type": "stream",
     "text": [
      "Epoch 21/50 - Loss: 0.206\n",
      "              Val_loss: 0.206\n",
      "              Batch_size: 128.000\n"
     ]
    },
    {
     "name": "stderr",
     "output_type": "stream",
     "text": [
      " 72%|███████▏  | 36/50 [00:01<00:00, 25.35it/s]"
     ]
    },
    {
     "name": "stdout",
     "output_type": "stream",
     "text": [
      "Epoch 31/50 - Loss: 0.146\n",
      "              Val_loss: 0.164\n",
      "              Batch_size: 128.000\n"
     ]
    },
    {
     "name": "stderr",
     "output_type": "stream",
     "text": [
      " 90%|█████████ | 45/50 [00:01<00:00, 25.32it/s]"
     ]
    },
    {
     "name": "stdout",
     "output_type": "stream",
     "text": [
      "Epoch 41/50 - Loss: 0.120\n",
      "              Val_loss: 0.138\n",
      "              Batch_size: 128.000\n"
     ]
    },
    {
     "name": "stderr",
     "output_type": "stream",
     "text": [
      "                                               \r"
     ]
    },
    {
     "name": "stdout",
     "output_type": "stream",
     "text": [
      "func:'train'  took: 1.9894 sec\n",
      "func:'convert_coord_to_aev'  took: 0.0673 sec\n",
      "['O', 'O', 'O', 'H', 'H']\n"
     ]
    },
    {
     "name": "stderr",
     "output_type": "stream",
     "text": [
      "  0%|          | 0/50 [00:00<?, ?it/s]"
     ]
    },
    {
     "name": "stdout",
     "output_type": "stream",
     "text": [
      "Epoch 1/50 - Loss: 359.831\n",
      "              Val_loss: 5.659\n",
      "              Batch_size: 128.000\n"
     ]
    },
    {
     "name": "stderr",
     "output_type": "stream",
     "text": [
      " 28%|██▊       | 14/50 [00:00<00:02, 15.20it/s]"
     ]
    },
    {
     "name": "stdout",
     "output_type": "stream",
     "text": [
      "Epoch 11/50 - Loss: 0.394\n",
      "              Val_loss: 0.433\n",
      "              Batch_size: 128.000\n"
     ]
    },
    {
     "name": "stderr",
     "output_type": "stream",
     "text": [
      " 48%|████▊     | 24/50 [00:01<00:01, 15.13it/s]"
     ]
    },
    {
     "name": "stdout",
     "output_type": "stream",
     "text": [
      "Epoch 21/50 - Loss: 0.289\n",
      "              Val_loss: 0.323\n",
      "              Batch_size: 128.000\n"
     ]
    },
    {
     "name": "stderr",
     "output_type": "stream",
     "text": [
      " 68%|██████▊   | 34/50 [00:02<00:01, 15.20it/s]"
     ]
    },
    {
     "name": "stdout",
     "output_type": "stream",
     "text": [
      "Epoch 31/50 - Loss: 0.206\n",
      "              Val_loss: 0.241\n",
      "              Batch_size: 128.000\n"
     ]
    },
    {
     "name": "stderr",
     "output_type": "stream",
     "text": [
      " 88%|████████▊ | 44/50 [00:02<00:00, 15.18it/s]"
     ]
    },
    {
     "name": "stdout",
     "output_type": "stream",
     "text": [
      "Epoch 41/50 - Loss: 0.164\n",
      "              Val_loss: 0.200\n",
      "              Batch_size: 128.000\n"
     ]
    },
    {
     "name": "stderr",
     "output_type": "stream",
     "text": [
      "                                               \r"
     ]
    },
    {
     "name": "stdout",
     "output_type": "stream",
     "text": [
      "func:'train'  took: 3.3144 sec\n",
      "func:'convert_coord_to_aev'  took: 0.8398 sec\n",
      "['C', 'C', 'O', 'H', 'H', 'H', 'H', 'H', 'H']\n"
     ]
    },
    {
     "name": "stderr",
     "output_type": "stream",
     "text": [
      "  2%|▏         | 1/50 [00:00<00:10,  4.56it/s]"
     ]
    },
    {
     "name": "stdout",
     "output_type": "stream",
     "text": [
      "Epoch 1/50 - Loss: 179.464\n",
      "              Val_loss: 6.240\n",
      "              Batch_size: 128.000\n"
     ]
    },
    {
     "name": "stderr",
     "output_type": "stream",
     "text": [
      " 22%|██▏       | 11/50 [00:02<00:08,  4.62it/s]"
     ]
    },
    {
     "name": "stdout",
     "output_type": "stream",
     "text": [
      "Epoch 11/50 - Loss: 0.411\n",
      "              Val_loss: 0.445\n",
      "              Batch_size: 128.000\n"
     ]
    },
    {
     "name": "stderr",
     "output_type": "stream",
     "text": [
      " 42%|████▏     | 21/50 [00:04<00:06,  4.62it/s]"
     ]
    },
    {
     "name": "stdout",
     "output_type": "stream",
     "text": [
      "Epoch 21/50 - Loss: 0.204\n",
      "              Val_loss: 0.232\n",
      "              Batch_size: 128.000\n"
     ]
    },
    {
     "name": "stderr",
     "output_type": "stream",
     "text": [
      " 62%|██████▏   | 31/50 [00:06<00:04,  4.62it/s]"
     ]
    },
    {
     "name": "stdout",
     "output_type": "stream",
     "text": [
      "Epoch 31/50 - Loss: 0.147\n",
      "              Val_loss: 0.151\n",
      "              Batch_size: 128.000\n"
     ]
    },
    {
     "name": "stderr",
     "output_type": "stream",
     "text": [
      " 82%|████████▏ | 41/50 [00:08<00:01,  4.63it/s]"
     ]
    },
    {
     "name": "stdout",
     "output_type": "stream",
     "text": [
      "Epoch 41/50 - Loss: 0.111\n",
      "              Val_loss: 0.118\n",
      "              Batch_size: 128.000\n"
     ]
    },
    {
     "name": "stderr",
     "output_type": "stream",
     "text": [
      "                                               \r"
     ]
    },
    {
     "name": "stdout",
     "output_type": "stream",
     "text": [
      "func:'train'  took: 10.8509 sec\n",
      "func:'convert_coord_to_aev'  took: 1.1554 sec\n",
      "['C', 'N', 'C', 'H', 'H', 'H', 'H', 'H', 'H', 'H']\n"
     ]
    },
    {
     "name": "stderr",
     "output_type": "stream",
     "text": [
      "  2%|▏         | 1/50 [00:00<00:13,  3.67it/s]"
     ]
    },
    {
     "name": "stdout",
     "output_type": "stream",
     "text": [
      "Epoch 1/50 - Loss: 30.862\n",
      "              Val_loss: 0.779\n",
      "              Batch_size: 128.000\n"
     ]
    },
    {
     "name": "stderr",
     "output_type": "stream",
     "text": [
      " 22%|██▏       | 11/50 [00:02<00:10,  3.81it/s]"
     ]
    },
    {
     "name": "stdout",
     "output_type": "stream",
     "text": [
      "Epoch 11/50 - Loss: 0.087\n",
      "              Val_loss: 0.080\n",
      "              Batch_size: 128.000\n"
     ]
    },
    {
     "name": "stderr",
     "output_type": "stream",
     "text": [
      " 42%|████▏     | 21/50 [00:05<00:07,  3.82it/s]"
     ]
    },
    {
     "name": "stdout",
     "output_type": "stream",
     "text": [
      "Epoch 21/50 - Loss: 0.054\n",
      "              Val_loss: 0.052\n",
      "              Batch_size: 128.000\n"
     ]
    },
    {
     "name": "stderr",
     "output_type": "stream",
     "text": [
      " 62%|██████▏   | 31/50 [00:08<00:04,  3.83it/s]"
     ]
    },
    {
     "name": "stdout",
     "output_type": "stream",
     "text": [
      "Epoch 31/50 - Loss: 0.048\n",
      "              Val_loss: 0.038\n",
      "              Batch_size: 128.000\n"
     ]
    },
    {
     "name": "stderr",
     "output_type": "stream",
     "text": [
      " 82%|████████▏ | 41/50 [00:10<00:02,  3.82it/s]"
     ]
    },
    {
     "name": "stdout",
     "output_type": "stream",
     "text": [
      "Epoch 41/50 - Loss: 0.037\n",
      "              Val_loss: 0.031\n",
      "              Batch_size: 128.000\n"
     ]
    },
    {
     "name": "stderr",
     "output_type": "stream",
     "text": [
      "                                               \r"
     ]
    },
    {
     "name": "stdout",
     "output_type": "stream",
     "text": [
      "func:'train'  took: 13.1445 sec\n",
      "func:'convert_coord_to_aev'  took: 0.7144 sec\n",
      "['C', 'O', 'C', 'H', 'H', 'H', 'H', 'H', 'H']\n"
     ]
    },
    {
     "name": "stderr",
     "output_type": "stream",
     "text": [
      "  2%|▏         | 1/50 [00:00<00:10,  4.61it/s]"
     ]
    },
    {
     "name": "stdout",
     "output_type": "stream",
     "text": [
      "Epoch 1/50 - Loss: 3.367\n",
      "              Val_loss: 1.131\n",
      "              Batch_size: 128.000\n"
     ]
    },
    {
     "name": "stderr",
     "output_type": "stream",
     "text": [
      " 22%|██▏       | 11/50 [00:02<00:08,  4.63it/s]"
     ]
    },
    {
     "name": "stdout",
     "output_type": "stream",
     "text": [
      "Epoch 11/50 - Loss: 0.058\n",
      "              Val_loss: 0.103\n",
      "              Batch_size: 128.000\n"
     ]
    },
    {
     "name": "stderr",
     "output_type": "stream",
     "text": [
      " 42%|████▏     | 21/50 [00:04<00:06,  4.67it/s]"
     ]
    },
    {
     "name": "stdout",
     "output_type": "stream",
     "text": [
      "Epoch 21/50 - Loss: 0.034\n",
      "              Val_loss: 0.062\n",
      "              Batch_size: 128.000\n"
     ]
    },
    {
     "name": "stderr",
     "output_type": "stream",
     "text": [
      " 62%|██████▏   | 31/50 [00:06<00:04,  4.66it/s]"
     ]
    },
    {
     "name": "stdout",
     "output_type": "stream",
     "text": [
      "Epoch 31/50 - Loss: 0.029\n",
      "              Val_loss: 0.044\n",
      "              Batch_size: 128.000\n"
     ]
    },
    {
     "name": "stderr",
     "output_type": "stream",
     "text": [
      " 82%|████████▏ | 41/50 [00:08<00:01,  4.65it/s]"
     ]
    },
    {
     "name": "stdout",
     "output_type": "stream",
     "text": [
      "Epoch 41/50 - Loss: 0.023\n",
      "              Val_loss: 0.036\n",
      "              Batch_size: 128.000\n"
     ]
    },
    {
     "name": "stderr",
     "output_type": "stream",
     "text": [
      "                                               \r"
     ]
    },
    {
     "name": "stdout",
     "output_type": "stream",
     "text": [
      "func:'train'  took: 10.7730 sec\n",
      "func:'convert_coord_to_aev'  took: 0.7193 sec\n",
      "['C', 'C', 'C', 'H', 'H', 'H', 'H', 'H', 'H']\n"
     ]
    },
    {
     "name": "stderr",
     "output_type": "stream",
     "text": [
      "  2%|▏         | 1/50 [00:00<00:10,  4.69it/s]"
     ]
    },
    {
     "name": "stdout",
     "output_type": "stream",
     "text": [
      "Epoch 1/50 - Loss: 157.751\n",
      "              Val_loss: 3.867\n",
      "              Batch_size: 128.000\n"
     ]
    },
    {
     "name": "stderr",
     "output_type": "stream",
     "text": [
      " 22%|██▏       | 11/50 [00:02<00:08,  4.66it/s]"
     ]
    },
    {
     "name": "stdout",
     "output_type": "stream",
     "text": [
      "Epoch 11/50 - Loss: 0.118\n",
      "              Val_loss: 0.114\n",
      "              Batch_size: 128.000\n"
     ]
    },
    {
     "name": "stderr",
     "output_type": "stream",
     "text": [
      " 42%|████▏     | 21/50 [00:04<00:06,  4.67it/s]"
     ]
    },
    {
     "name": "stdout",
     "output_type": "stream",
     "text": [
      "Epoch 21/50 - Loss: 0.076\n",
      "              Val_loss: 0.066\n",
      "              Batch_size: 128.000\n"
     ]
    },
    {
     "name": "stderr",
     "output_type": "stream",
     "text": [
      " 62%|██████▏   | 31/50 [00:06<00:04,  4.67it/s]"
     ]
    },
    {
     "name": "stdout",
     "output_type": "stream",
     "text": [
      "Epoch 31/50 - Loss: 0.055\n",
      "              Val_loss: 0.061\n",
      "              Batch_size: 128.000\n"
     ]
    },
    {
     "name": "stderr",
     "output_type": "stream",
     "text": [
      " 82%|████████▏ | 41/50 [00:08<00:01,  4.68it/s]"
     ]
    },
    {
     "name": "stdout",
     "output_type": "stream",
     "text": [
      "Epoch 41/50 - Loss: 0.046\n",
      "              Val_loss: 0.039\n",
      "              Batch_size: 128.000\n"
     ]
    },
    {
     "name": "stderr",
     "output_type": "stream",
     "text": [
      "                                               \r"
     ]
    },
    {
     "name": "stdout",
     "output_type": "stream",
     "text": [
      "func:'train'  took: 10.8128 sec\n",
      "func:'convert_coord_to_aev'  took: 0.2768 sec\n",
      "['C', 'C', 'O', 'H', 'H', 'H', 'H']\n"
     ]
    },
    {
     "name": "stderr",
     "output_type": "stream",
     "text": [
      "  2%|▏         | 1/50 [00:00<00:06,  7.54it/s]"
     ]
    },
    {
     "name": "stdout",
     "output_type": "stream",
     "text": [
      "Epoch 1/50 - Loss: 10.362\n",
      "              Val_loss: 1.900\n",
      "              Batch_size: 128.000\n"
     ]
    },
    {
     "name": "stderr",
     "output_type": "stream",
     "text": [
      " 24%|██▍       | 12/50 [00:01<00:04,  7.60it/s]"
     ]
    },
    {
     "name": "stdout",
     "output_type": "stream",
     "text": [
      "Epoch 11/50 - Loss: 0.072\n",
      "              Val_loss: 0.072\n",
      "              Batch_size: 128.000\n"
     ]
    },
    {
     "name": "stderr",
     "output_type": "stream",
     "text": [
      " 44%|████▍     | 22/50 [00:02<00:03,  7.58it/s]"
     ]
    },
    {
     "name": "stdout",
     "output_type": "stream",
     "text": [
      "Epoch 21/50 - Loss: 0.044\n",
      "              Val_loss: 0.048\n",
      "              Batch_size: 128.000\n"
     ]
    },
    {
     "name": "stderr",
     "output_type": "stream",
     "text": [
      " 64%|██████▍   | 32/50 [00:04<00:02,  7.59it/s]"
     ]
    },
    {
     "name": "stdout",
     "output_type": "stream",
     "text": [
      "Epoch 31/50 - Loss: 0.035\n",
      "              Val_loss: 0.036\n",
      "              Batch_size: 128.000\n"
     ]
    },
    {
     "name": "stderr",
     "output_type": "stream",
     "text": [
      " 84%|████████▍ | 42/50 [00:05<00:01,  7.61it/s]"
     ]
    },
    {
     "name": "stdout",
     "output_type": "stream",
     "text": [
      "Epoch 41/50 - Loss: 0.028\n",
      "              Val_loss: 0.028\n",
      "              Batch_size: 128.000\n"
     ]
    },
    {
     "name": "stderr",
     "output_type": "stream",
     "text": [
      "                                               \r"
     ]
    },
    {
     "name": "stdout",
     "output_type": "stream",
     "text": [
      "func:'train'  took: 6.5982 sec\n",
      "func:'convert_coord_to_aev'  took: 0.0083 sec\n",
      "['O', 'C', 'O']\n"
     ]
    },
    {
     "name": "stderr",
     "output_type": "stream",
     "text": [
      " 12%|█▏        | 6/50 [00:00<00:00, 55.65it/s]"
     ]
    },
    {
     "name": "stdout",
     "output_type": "stream",
     "text": [
      "Epoch 1/50 - Loss: 961.149\n",
      "              Val_loss: 504.447\n",
      "              Batch_size: 128.000\n"
     ]
    },
    {
     "name": "stderr",
     "output_type": "stream",
     "text": [
      " 24%|██▍       | 12/50 [00:00<00:00, 55.76it/s]"
     ]
    },
    {
     "name": "stdout",
     "output_type": "stream",
     "text": [
      "Epoch 11/50 - Loss: 4.490\n",
      "              Val_loss: 0.454\n",
      "              Batch_size: 128.000\n"
     ]
    },
    {
     "name": "stderr",
     "output_type": "stream",
     "text": [
      " 36%|███▌      | 18/50 [00:00<00:00, 55.87it/s]"
     ]
    },
    {
     "name": "stdout",
     "output_type": "stream",
     "text": [
      "Epoch 21/50 - Loss: 0.363\n",
      "              Val_loss: 0.382\n",
      "              Batch_size: 128.000\n"
     ]
    },
    {
     "name": "stderr",
     "output_type": "stream",
     "text": [
      " 60%|██████    | 30/50 [00:00<00:00, 56.02it/s]"
     ]
    },
    {
     "name": "stdout",
     "output_type": "stream",
     "text": [
      "Epoch 31/50 - Loss: 0.305\n",
      "              Val_loss: 0.311\n",
      "              Batch_size: 128.000\n"
     ]
    },
    {
     "name": "stderr",
     "output_type": "stream",
     "text": [
      " 84%|████████▍ | 42/50 [00:00<00:00, 55.92it/s]"
     ]
    },
    {
     "name": "stdout",
     "output_type": "stream",
     "text": [
      "Epoch 41/50 - Loss: 0.263\n",
      "              Val_loss: 0.268\n",
      "              Batch_size: 128.000\n"
     ]
    },
    {
     "name": "stderr",
     "output_type": "stream",
     "text": [
      "                                               "
     ]
    },
    {
     "name": "stdout",
     "output_type": "stream",
     "text": [
      "func:'train'  took: 0.9104 sec\n"
     ]
    },
    {
     "name": "stderr",
     "output_type": "stream",
     "text": [
      "\r"
     ]
    },
    {
     "name": "stdout",
     "output_type": "stream",
     "text": [
      "func:'convert_coord_to_aev'  took: 0.1429 sec\n",
      "['C', 'C', 'N', 'H', 'H', 'H']\n"
     ]
    },
    {
     "name": "stderr",
     "output_type": "stream",
     "text": [
      "  2%|▏         | 1/50 [00:00<00:05,  9.34it/s]"
     ]
    },
    {
     "name": "stdout",
     "output_type": "stream",
     "text": [
      "Epoch 1/50 - Loss: 32.999\n",
      "              Val_loss: 7.682\n",
      "              Batch_size: 128.000\n"
     ]
    },
    {
     "name": "stderr",
     "output_type": "stream",
     "text": [
      " 26%|██▌       | 13/50 [00:01<00:03, 10.38it/s]"
     ]
    },
    {
     "name": "stdout",
     "output_type": "stream",
     "text": [
      "Epoch 11/50 - Loss: 0.059\n",
      "              Val_loss: 0.059\n",
      "              Batch_size: 128.000\n"
     ]
    },
    {
     "name": "stderr",
     "output_type": "stream",
     "text": [
      " 46%|████▌     | 23/50 [00:02<00:02, 10.42it/s]"
     ]
    },
    {
     "name": "stdout",
     "output_type": "stream",
     "text": [
      "Epoch 21/50 - Loss: 0.029\n",
      "              Val_loss: 0.030\n",
      "              Batch_size: 128.000\n"
     ]
    },
    {
     "name": "stderr",
     "output_type": "stream",
     "text": [
      " 66%|██████▌   | 33/50 [00:03<00:01, 10.42it/s]"
     ]
    },
    {
     "name": "stdout",
     "output_type": "stream",
     "text": [
      "Epoch 31/50 - Loss: 0.019\n",
      "              Val_loss: 0.018\n",
      "              Batch_size: 128.000\n"
     ]
    },
    {
     "name": "stderr",
     "output_type": "stream",
     "text": [
      " 86%|████████▌ | 43/50 [00:04<00:00, 10.42it/s]"
     ]
    },
    {
     "name": "stdout",
     "output_type": "stream",
     "text": [
      "Epoch 41/50 - Loss: 0.015\n",
      "              Val_loss: 0.014\n",
      "              Batch_size: 128.000\n"
     ]
    },
    {
     "name": "stderr",
     "output_type": "stream",
     "text": [
      "                                               \r"
     ]
    },
    {
     "name": "stdout",
     "output_type": "stream",
     "text": [
      "func:'train'  took: 4.8293 sec\n",
      "func:'convert_coord_to_aev'  took: 0.2708 sec\n",
      "['N', 'C', 'N', 'H', 'H', 'H', 'H']\n"
     ]
    },
    {
     "name": "stderr",
     "output_type": "stream",
     "text": [
      "  2%|▏         | 1/50 [00:00<00:06,  7.57it/s]"
     ]
    },
    {
     "name": "stdout",
     "output_type": "stream",
     "text": [
      "Epoch 1/50 - Loss: 58.864\n",
      "              Val_loss: 0.783\n",
      "              Batch_size: 128.000\n"
     ]
    },
    {
     "name": "stderr",
     "output_type": "stream",
     "text": [
      " 24%|██▍       | 12/50 [00:01<00:04,  7.65it/s]"
     ]
    },
    {
     "name": "stdout",
     "output_type": "stream",
     "text": [
      "Epoch 11/50 - Loss: 0.090\n",
      "              Val_loss: 0.298\n",
      "              Batch_size: 128.000\n"
     ]
    },
    {
     "name": "stderr",
     "output_type": "stream",
     "text": [
      " 44%|████▍     | 22/50 [00:02<00:03,  7.63it/s]"
     ]
    },
    {
     "name": "stdout",
     "output_type": "stream",
     "text": [
      "Epoch 21/50 - Loss: 0.066\n",
      "              Val_loss: 0.261\n",
      "              Batch_size: 128.000\n"
     ]
    },
    {
     "name": "stderr",
     "output_type": "stream",
     "text": [
      " 64%|██████▍   | 32/50 [00:04<00:02,  7.64it/s]"
     ]
    },
    {
     "name": "stdout",
     "output_type": "stream",
     "text": [
      "Epoch 31/50 - Loss: 0.046\n",
      "              Val_loss: 0.225\n",
      "              Batch_size: 128.000\n"
     ]
    },
    {
     "name": "stderr",
     "output_type": "stream",
     "text": [
      " 84%|████████▍ | 42/50 [00:05<00:01,  7.66it/s]"
     ]
    },
    {
     "name": "stdout",
     "output_type": "stream",
     "text": [
      "Epoch 41/50 - Loss: 0.034\n",
      "              Val_loss: 0.203\n",
      "              Batch_size: 128.000\n"
     ]
    },
    {
     "name": "stderr",
     "output_type": "stream",
     "text": [
      "                                               \r"
     ]
    },
    {
     "name": "stdout",
     "output_type": "stream",
     "text": [
      "func:'train'  took: 6.5551 sec\n"
     ]
    },
    {
     "data": {
      "image/png": "[encoded data removed]",
      "text/plain": [
       "<Figure size 432x288 with 1 Axes>"
      ]
     },
     "metadata": {
      "needs_background": "light"
     },
     "output_type": "display_data"
    },
    {
     "data": {
      "image/png": "[encoded data removed]",
      "text/plain": [
       "<Figure size 432x288 with 1 Axes>"
      ]
     },
     "metadata": {
      "needs_background": "light"
     },
     "output_type": "display_data"
    },
    {
     "data": {
      "image/png": "[encoded data removed]",
      "text/plain": [
       "<Figure size 432x288 with 1 Axes>"
      ]
     },
     "metadata": {
      "needs_background": "light"
     },
     "output_type": "display_data"
    },
    {
     "data": {
      "image/png": "[encoded data removed]",
      "text/plain": [
       "<Figure size 432x288 with 1 Axes>"
      ]
     },
     "metadata": {
      "needs_background": "light"
     },
     "output_type": "display_data"
    },
    {
     "data": {
      "image/png": "[encoded data removed]",
      "text/plain": [
       "<Figure size 432x288 with 1 Axes>"
      ]
     },
     "metadata": {
      "needs_background": "light"
     },
     "output_type": "display_data"
    },
    {
     "data": {
      "image/png": "[encoded data removed]",
      "text/plain": [
       "<Figure size 432x288 with 1 Axes>"
      ]
     },
     "metadata": {
      "needs_background": "light"
     },
     "output_type": "display_data"
    },
    {
     "data": {
      "image/png": "[encoded data removed]",
      "text/plain": [
       "<Figure size 432x288 with 1 Axes>"
      ]
     },
     "metadata": {
      "needs_background": "light"
     },
     "output_type": "display_data"
    },
    {
     "data": {
      "image/png": "[encoded data removed]",
      "text/plain": [
       "<Figure size 432x288 with 1 Axes>"
      ]
     },
     "metadata": {
      "needs_background": "light"
     },
     "output_type": "display_data"
    },
    {
     "data": {
      "image/png": "[encoded data removed]",
      "text/plain": [
       "<Figure size 432x288 with 1 Axes>"
      ]
     },
     "metadata": {
      "needs_background": "light"
     },
     "output_type": "display_data"
    },
    {
     "data": {
      "image/png": "[encoded data removed]",
      "text/plain": [
       "<Figure size 432x288 with 1 Axes>"
      ]
     },
     "metadata": {
      "needs_background": "light"
     },
     "output_type": "display_data"
    },
    {
     "data": {
      "image/png": "[encoded data removed]",
      "text/plain": [
       "<Figure size 432x288 with 1 Axes>"
      ]
     },
     "metadata": {
      "needs_background": "light"
     },
     "output_type": "display_data"
    },
    {
     "data": {
      "image/png": "[encoded data removed]",
      "text/plain": [
       "<Figure size 432x288 with 1 Axes>"
      ]
     },
     "metadata": {
      "needs_background": "light"
     },
     "output_type": "display_data"
    },
    {
     "data": {
      "image/png": "[encoded data removed]",
      "text/plain": [
       "<Figure size 432x288 with 1 Axes>"
      ]
     },
     "metadata": {
      "needs_background": "light"
     },
     "output_type": "display_data"
    },
    {
     "data": {
      "image/png": "[encoded data removed]",
      "text/plain": [
       "<Figure size 432x288 with 1 Axes>"
      ]
     },
     "metadata": {
      "needs_background": "light"
     },
     "output_type": "display_data"
    },
    {
     "data": {
      "image/png": "[encoded data removed]",
      "text/plain": [
       "<Figure size 432x288 with 1 Axes>"
      ]
     },
     "metadata": {
      "needs_background": "light"
     },
     "output_type": "display_data"
    },
    {
     "data": {
      "image/png": "[encoded data removed]",
      "text/plain": [
       "<Figure size 432x288 with 1 Axes>"
      ]
     },
     "metadata": {
      "needs_background": "light"
     },
     "output_type": "display_data"
    },
    {
     "data": {
      "image/png": "[encoded data removed]",
      "text/plain": [
       "<Figure size 432x288 with 1 Axes>"
      ]
     },
     "metadata": {
      "needs_background": "light"
     },
     "output_type": "display_data"
    },
    {
     "data": {
      "image/png": "[encoded data removed]",
      "text/plain": [
       "<Figure size 432x288 with 1 Axes>"
      ]
     },
     "metadata": {
      "needs_background": "light"
     },
     "output_type": "display_data"
    },
    {
     "data": {
      "image/png": "[encoded data removed]",
      "text/plain": [
       "<Figure size 432x288 with 1 Axes>"
      ]
     },
     "metadata": {
      "needs_background": "light"
     },
     "output_type": "display_data"
    },
    {
     "data": {
      "image/png": "[encoded data removed]",
      "text/plain": [
       "<Figure size 432x288 with 1 Axes>"
      ]
     },
     "metadata": {
      "needs_background": "light"
     },
     "output_type": "display_data"
    }
   ],
   "source": [
    "for i in range(len(data_set_X_3)):\n",
    "    mol = data_set_X_3[i]\n",
    "    mol_energies = y_energies_3[i]\n",
    "    mol_atoms = data_set_X_3[i]['species']\n",
    "\n",
    "    mol_aevs = convert_coord_to_aev(mol['coordinates'], mol['species'])\n",
    "    print(mol_atoms)\n",
    "\n",
    "    mol_x_train, mol_x_test, mol_y_train, mol_y_test = train_test_split(mol_aevs, mol_energies, test_size=1/3, random_state=42)\n",
    "    mol_x_train, mol_x_val, mol_y_train, mol_y_val = train_test_split(mol_x_train, mol_y_train, test_size=1/3, random_state=42)\n",
    "\n",
    "    ANI_trainer_1.train(mol_atoms, mol_x_train, mol_y_train, mol_x_val, mol_y_val)    "
   ]
  },
  {
   "cell_type": "code",
   "execution_count": null,
   "id": "c3916cce-090b-42b6-9d71-f72cacc1bffa",
   "metadata": {},
   "outputs": [],
   "source": []
  }
 ],
 "metadata": {
  "kernelspec": {
   "display_name": "pytorch-1.9.0",
   "language": "python",
   "name": "pytorch-1.9.0"
  },
  "language_info": {
   "codemirror_mode": {
    "name": "ipython",
    "version": 3
   },
   "file_extension": ".py",
   "mimetype": "text/x-python",
   "name": "python",
   "nbconvert_exporter": "python",
   "pygments_lexer": "ipython3",
   "version": "3.8.11"
  }
 },
 "nbformat": 4,
 "nbformat_minor": 5
}
